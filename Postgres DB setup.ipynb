{
 "cells": [
  {
   "cell_type": "code",
   "execution_count": 1,
   "metadata": {},
   "outputs": [
    {
     "name": "stdout",
     "output_type": "stream",
     "text": [
      "['ï»¿FID', 'YEAR', 'MONTH', 'DAY', 'AD_TIME', 'BTID', 'NAME', 'LAT', 'LONG', 'WIND_KTS', 'PRESSURE', 'CAT', 'BASIN', 'Shape_Leng']\n",
      "['2001', '1957', '8', '8', '1800Z', '63', 'NOTNAMED', '22.5', '-140', '50', '0', 'TS', 'Eastern Pacific', '1.140175']\n",
      "['2002', '1961', '10', '3', '1200Z', '116', 'PAULINE', '22.1', '-140.2', '45', '0', 'TS', 'Eastern Pacific', '1.16619']\n",
      "['2003', '1962', '8', '29', '0600Z', '124', 'C', '18', '-140', '45', '0', 'TS', 'Eastern Pacific', '2.10238']\n",
      "['2004', '1967', '7', '14', '0600Z', '168', 'DENISE', '16.6', '-139.5', '45', '0', 'TS', 'Eastern Pacific', '2.12132']\n",
      "['2005', '1972', '8', '16', '1200Z', '251', 'DIANA', '18.5', '-139.8', '70', '0', 'H1', 'Eastern Pacific', '1.702939']\n",
      "['2006', '1976', '7', '22', '0000Z', '312', 'DIANA', '18.6', '-139.8', '30', '0', 'TD', 'Eastern Pacific', '1.6']\n",
      "['2007', '1978', '8', '26', '1200Z', '342', 'KRISTY', '21.4', '-140.2', '45', '0', 'TS', 'Eastern Pacific', '1.30384']\n",
      "['2008', '1980', '9', '24', '1800Z', '371', 'KAY', '20.5', '-140.2', '75', '0', 'H1', 'Eastern Pacific', '1.220656']\n",
      "['2009', '1970', '8', '23', '0000Z', '223', 'MAGGIE', '14.9', '-139.4', '45', '0', 'TS', 'Eastern Pacific', '0.921954']\n"
     ]
    }
   ],
   "source": [
    "import io\n",
    "from urllib import request\n",
    "import csv\n",
    "\n",
    "response = request.urlopen('https://dq-content.s3.amazonaws.com/251/storm_data.csv')\n",
    "reader = csv.reader(io.TextIOWrapper(response))\n",
    "\n",
    "for i, line in enumerate(reader):\n",
    "    if i < 10:\n",
    "        print(line)"
   ]
  },
  {
   "cell_type": "code",
   "execution_count": 2,
   "metadata": {
    "collapsed": true
   },
   "outputs": [],
   "source": [
    "import psycopg2\n",
    "\n",
    "# Create database\n",
    "conn = psycopg2.connect(dbname=\"postgres\", user=\"postgres\")\n",
    "conn.autocommit = True\n",
    "cursor = conn.cursor()\n",
    "cursor.execute(\"CREATE DATABASE hurricanes\")\n",
    "conn.close()"
   ]
  },
  {
   "cell_type": "code",
   "execution_count": 6,
   "metadata": {},
   "outputs": [],
   "source": [
    "# Create table\n",
    "conn = psycopg2.connect(dbname=\"hurricanes\", user=\"postgres\")\n",
    "conn.autocommit = True\n",
    "cursor = conn.cursor()\n",
    "cursor.execute('''CREATE TABLE storm_data ( FID integer,\n",
    "                                            Year integer,\n",
    "                                            Month integer,\n",
    "                                            Day integer,\n",
    "                                            AD_Time integer,\n",
    "                                            BTID integer,\n",
    "                                            Name varchar(30),\n",
    "                                            Lat numeric(4,1),\n",
    "                                            Long numeric(4,1),\n",
    "                                            Wind_KTS integer,\n",
    "                                            Pressure integer,\n",
    "                                            Cat varchar(10),\n",
    "                                            Basin varchar(30),\n",
    "                                            Shape_Leng numeric(7,6)\n",
    "                                            )''')\n",
    "conn.close()"
   ]
  },
  {
   "cell_type": "code",
   "execution_count": 7,
   "metadata": {},
   "outputs": [
    {
     "name": "stdout",
     "output_type": "stream",
     "text": [
      "[('hurricanes', 'public', 'storm_data', 'BASE TABLE', None, None, None, None, None, 'YES', 'NO', None)]\n"
     ]
    }
   ],
   "source": [
    "conn = psycopg2.connect(dbname=\"hurricanes\", user=\"postgres\")\n",
    "cursor = conn.cursor()\n",
    "cursor.execute(\"select * from information_schema.tables where table_schema = 'public' \")\n",
    "res = cursor.fetchall()\n",
    "print(res)\n",
    "conn.close()"
   ]
  },
  {
   "cell_type": "code",
   "execution_count": 10,
   "metadata": {},
   "outputs": [],
   "source": [
    "conn = psycopg2.connect(dbname=\"hurricanes\", user=\"postgres\")\n",
    "conn.autocommit = True\n",
    "cursor = conn.cursor()\n",
    "\n",
    "# Create group for analysts\n",
    "#cursor.execute('CREATE GROUP read_analysts')\n",
    "cursor.execute('REVOKE all ON storm_data FROM read_analysts')\n",
    "cursor.execute('GRANT SELECT, INSERT ON storm_data TO read_analysts')\n"
   ]
  },
  {
   "cell_type": "code",
   "execution_count": 11,
   "metadata": {
    "collapsed": true
   },
   "outputs": [],
   "source": [
    "# Create user\n",
    "cursor.execute(\"CREATE USER analyst1 WITH PASSWORD 'password'\")\n",
    "cursor.execute('GRANT read_analysts TO analyst1')\n",
    "\n",
    "conn.close()"
   ]
  },
  {
   "cell_type": "code",
   "execution_count": 12,
   "metadata": {},
   "outputs": [
    {
     "name": "stdout",
     "output_type": "stream",
     "text": [
      "<cursor object at 0x000002506FCB9E48; closed: 0>\n"
     ]
    }
   ],
   "source": [
    "# Connect as user\n",
    "conn = psycopg2.connect(dbname=\"hurricanes\", user=\"analyst1\",password=\"password\")\n",
    "cursor = conn.cursor()\n",
    "print(cursor)\n"
   ]
  }
 ],
 "metadata": {
  "kernelspec": {
   "display_name": "Python 3",
   "language": "python",
   "name": "python3"
  },
  "language_info": {
   "codemirror_mode": {
    "name": "ipython",
    "version": 3
   },
   "file_extension": ".py",
   "mimetype": "text/x-python",
   "name": "python",
   "nbconvert_exporter": "python",
   "pygments_lexer": "ipython3",
   "version": "3.6.1"
  }
 },
 "nbformat": 4,
 "nbformat_minor": 2
}
