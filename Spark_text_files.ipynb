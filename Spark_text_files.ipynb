{
 "cells": [
  {
   "cell_type": "code",
   "execution_count": 1,
   "metadata": {
    "collapsed": true
   },
   "outputs": [],
   "source": [
    "import findspark\n",
    "findspark.init()"
   ]
  },
  {
   "cell_type": "code",
   "execution_count": 2,
   "metadata": {
    "collapsed": true
   },
   "outputs": [],
   "source": [
    "import pyspark\n",
    "sc = pyspark.SparkContext()"
   ]
  },
  {
   "cell_type": "code",
   "execution_count": 3,
   "metadata": {
    "collapsed": true
   },
   "outputs": [],
   "source": [
    "# this looks ugly to me, but everyone does it...\n",
    "from pyspark.sql.types import *"
   ]
  },
  {
   "cell_type": "code",
   "execution_count": 4,
   "metadata": {
    "collapsed": true
   },
   "outputs": [],
   "source": [
    "from pyspark.sql import SparkSession\n",
    "\n",
    "spark = SparkSession.builder \\\n",
    "                    .appName('Test face') \\\n",
    "                    .getOrCreate()"
   ]
  },
  {
   "cell_type": "code",
   "execution_count": 5,
   "metadata": {},
   "outputs": [],
   "source": [
    "# load file as a text file because the spark.read.text option is rubbish\n",
    "housing = sc.textFile('C:\\\\Users\\\\mroberts\\\\Documents\\\\AmesHousing.txt')"
   ]
  },
  {
   "cell_type": "code",
   "execution_count": 6,
   "metadata": {},
   "outputs": [
    {
     "data": {
      "text/plain": [
       "['Order\\tPID\\tMS SubClass\\tMS Zoning\\tLot Frontage\\tLot Area\\tStreet\\tAlley\\tLot Shape\\tLand Contour\\tUtilities\\tLot Config\\tLand Slope\\tNeighborhood\\tCondition 1\\tCondition 2\\tBldg Type\\tHouse Style\\tOverall Qual\\tOverall Cond\\tYear Built\\tYear Remod/Add\\tRoof Style\\tRoof Matl\\tExterior 1st\\tExterior 2nd\\tMas Vnr Type\\tMas Vnr Area\\tExter Qual\\tExter Cond\\tFoundation\\tBsmt Qual\\tBsmt Cond\\tBsmt Exposure\\tBsmtFin Type 1\\tBsmtFin SF 1\\tBsmtFin Type 2\\tBsmtFin SF 2\\tBsmt Unf SF\\tTotal Bsmt SF\\tHeating\\tHeating QC\\tCentral Air\\tElectrical\\t1st Flr SF\\t2nd Flr SF\\tLow Qual Fin SF\\tGr Liv Area\\tBsmt Full Bath\\tBsmt Half Bath\\tFull Bath\\tHalf Bath\\tBedroom AbvGr\\tKitchen AbvGr\\tKitchen Qual\\tTotRms AbvGrd\\tFunctional\\tFireplaces\\tFireplace Qu\\tGarage Type\\tGarage Yr Blt\\tGarage Finish\\tGarage Cars\\tGarage Area\\tGarage Qual\\tGarage Cond\\tPaved Drive\\tWood Deck SF\\tOpen Porch SF\\tEnclosed Porch\\t3Ssn Porch\\tScreen Porch\\tPool Area\\tPool QC\\tFence\\tMisc Feature\\tMisc Val\\tMo Sold\\tYr Sold\\tSale Type\\tSale Condition\\tSalePrice',\n",
       " '1\\t0526301100\\t020\\tRL\\t141\\t31770\\tPave\\tNA\\tIR1\\tLvl\\tAllPub\\tCorner\\tGtl\\tNAmes\\tNorm\\tNorm\\t1Fam\\t1Story\\t6\\t5\\t1960\\t1960\\tHip\\tCompShg\\tBrkFace\\tPlywood\\tStone\\t112\\tTA\\tTA\\tCBlock\\tTA\\tGd\\tGd\\tBLQ\\t639\\tUnf\\t0\\t441\\t1080\\tGasA\\tFa\\tY\\tSBrkr\\t1656\\t0\\t0\\t1656\\t1\\t0\\t1\\t0\\t3\\t1\\tTA\\t7\\tTyp\\t2\\tGd\\tAttchd\\t1960\\tFin\\t2\\t528\\tTA\\tTA\\tP\\t210\\t62\\t0\\t0\\t0\\t0\\tNA\\tNA\\tNA\\t0\\t5\\t2010\\tWD \\tNormal\\t215000',\n",
       " '2\\t0526350040\\t020\\tRH\\t80\\t11622\\tPave\\tNA\\tReg\\tLvl\\tAllPub\\tInside\\tGtl\\tNAmes\\tFeedr\\tNorm\\t1Fam\\t1Story\\t5\\t6\\t1961\\t1961\\tGable\\tCompShg\\tVinylSd\\tVinylSd\\tNone\\t0\\tTA\\tTA\\tCBlock\\tTA\\tTA\\tNo\\tRec\\t468\\tLwQ\\t144\\t270\\t882\\tGasA\\tTA\\tY\\tSBrkr\\t896\\t0\\t0\\t896\\t0\\t0\\t1\\t0\\t2\\t1\\tTA\\t5\\tTyp\\t0\\tNA\\tAttchd\\t1961\\tUnf\\t1\\t730\\tTA\\tTA\\tY\\t140\\t0\\t0\\t0\\t120\\t0\\tNA\\tMnPrv\\tNA\\t0\\t6\\t2010\\tWD \\tNormal\\t105000',\n",
       " '3\\t0526351010\\t020\\tRL\\t81\\t14267\\tPave\\tNA\\tIR1\\tLvl\\tAllPub\\tCorner\\tGtl\\tNAmes\\tNorm\\tNorm\\t1Fam\\t1Story\\t6\\t6\\t1958\\t1958\\tHip\\tCompShg\\tWd Sdng\\tWd Sdng\\tBrkFace\\t108\\tTA\\tTA\\tCBlock\\tTA\\tTA\\tNo\\tALQ\\t923\\tUnf\\t0\\t406\\t1329\\tGasA\\tTA\\tY\\tSBrkr\\t1329\\t0\\t0\\t1329\\t0\\t0\\t1\\t1\\t3\\t1\\tGd\\t6\\tTyp\\t0\\tNA\\tAttchd\\t1958\\tUnf\\t1\\t312\\tTA\\tTA\\tY\\t393\\t36\\t0\\t0\\t0\\t0\\tNA\\tNA\\tGar2\\t12500\\t6\\t2010\\tWD \\tNormal\\t172000',\n",
       " '4\\t0526353030\\t020\\tRL\\t93\\t11160\\tPave\\tNA\\tReg\\tLvl\\tAllPub\\tCorner\\tGtl\\tNAmes\\tNorm\\tNorm\\t1Fam\\t1Story\\t7\\t5\\t1968\\t1968\\tHip\\tCompShg\\tBrkFace\\tBrkFace\\tNone\\t0\\tGd\\tTA\\tCBlock\\tTA\\tTA\\tNo\\tALQ\\t1065\\tUnf\\t0\\t1045\\t2110\\tGasA\\tEx\\tY\\tSBrkr\\t2110\\t0\\t0\\t2110\\t1\\t0\\t2\\t1\\t3\\t1\\tEx\\t8\\tTyp\\t2\\tTA\\tAttchd\\t1968\\tFin\\t2\\t522\\tTA\\tTA\\tY\\t0\\t0\\t0\\t0\\t0\\t0\\tNA\\tNA\\tNA\\t0\\t4\\t2010\\tWD \\tNormal\\t244000']"
      ]
     },
     "execution_count": 6,
     "metadata": {},
     "output_type": "execute_result"
    }
   ],
   "source": [
    "housing.take(5)"
   ]
  },
  {
   "cell_type": "code",
   "execution_count": 8,
   "metadata": {},
   "outputs": [],
   "source": [
    "# we're going to get the schema details from the header\n",
    "header = housing.first()"
   ]
  },
  {
   "cell_type": "code",
   "execution_count": 9,
   "metadata": {},
   "outputs": [
    {
     "data": {
      "text/plain": [
       "['Order',\n",
       " 'PID',\n",
       " 'MS SubClass',\n",
       " 'MS Zoning',\n",
       " 'Lot Frontage',\n",
       " 'Lot Area',\n",
       " 'Street',\n",
       " 'Alley',\n",
       " 'Lot Shape',\n",
       " 'Land Contour',\n",
       " 'Utilities',\n",
       " 'Lot Config',\n",
       " 'Land Slope',\n",
       " 'Neighborhood',\n",
       " 'Condition 1',\n",
       " 'Condition 2',\n",
       " 'Bldg Type',\n",
       " 'House Style',\n",
       " 'Overall Qual',\n",
       " 'Overall Cond',\n",
       " 'Year Built',\n",
       " 'Year Remod/Add',\n",
       " 'Roof Style',\n",
       " 'Roof Matl',\n",
       " 'Exterior 1st',\n",
       " 'Exterior 2nd',\n",
       " 'Mas Vnr Type',\n",
       " 'Mas Vnr Area',\n",
       " 'Exter Qual',\n",
       " 'Exter Cond',\n",
       " 'Foundation',\n",
       " 'Bsmt Qual',\n",
       " 'Bsmt Cond',\n",
       " 'Bsmt Exposure',\n",
       " 'BsmtFin Type 1',\n",
       " 'BsmtFin SF 1',\n",
       " 'BsmtFin Type 2',\n",
       " 'BsmtFin SF 2',\n",
       " 'Bsmt Unf SF',\n",
       " 'Total Bsmt SF',\n",
       " 'Heating',\n",
       " 'Heating QC',\n",
       " 'Central Air',\n",
       " 'Electrical',\n",
       " '1st Flr SF',\n",
       " '2nd Flr SF',\n",
       " 'Low Qual Fin SF',\n",
       " 'Gr Liv Area',\n",
       " 'Bsmt Full Bath',\n",
       " 'Bsmt Half Bath',\n",
       " 'Full Bath',\n",
       " 'Half Bath',\n",
       " 'Bedroom AbvGr',\n",
       " 'Kitchen AbvGr',\n",
       " 'Kitchen Qual',\n",
       " 'TotRms AbvGrd',\n",
       " 'Functional',\n",
       " 'Fireplaces',\n",
       " 'Fireplace Qu',\n",
       " 'Garage Type',\n",
       " 'Garage Yr Blt',\n",
       " 'Garage Finish',\n",
       " 'Garage Cars',\n",
       " 'Garage Area',\n",
       " 'Garage Qual',\n",
       " 'Garage Cond',\n",
       " 'Paved Drive',\n",
       " 'Wood Deck SF',\n",
       " 'Open Porch SF',\n",
       " 'Enclosed Porch',\n",
       " '3Ssn Porch',\n",
       " 'Screen Porch',\n",
       " 'Pool Area',\n",
       " 'Pool QC',\n",
       " 'Fence',\n",
       " 'Misc Feature',\n",
       " 'Misc Val',\n",
       " 'Mo Sold',\n",
       " 'Yr Sold',\n",
       " 'Sale Type',\n",
       " 'Sale Condition',\n",
       " 'SalePrice']"
      ]
     },
     "execution_count": 9,
     "metadata": {},
     "output_type": "execute_result"
    }
   ],
   "source": [
    "header.split('\\t')"
   ]
  },
  {
   "cell_type": "code",
   "execution_count": 11,
   "metadata": {},
   "outputs": [],
   "source": [
    "# get a field list to pass to the StructType class\n",
    "# NOTE: it would also be a good idea to remove spaces from field names here\n",
    "fields = [StructField(field_name, StringType(), True) for field_name in header.split('\\t')]"
   ]
  },
  {
   "cell_type": "code",
   "execution_count": 12,
   "metadata": {},
   "outputs": [
    {
     "data": {
      "text/plain": [
       "[StructField(Order,StringType,true),\n",
       " StructField(PID,StringType,true),\n",
       " StructField(MS SubClass,StringType,true),\n",
       " StructField(MS Zoning,StringType,true),\n",
       " StructField(Lot Frontage,StringType,true),\n",
       " StructField(Lot Area,StringType,true),\n",
       " StructField(Street,StringType,true),\n",
       " StructField(Alley,StringType,true),\n",
       " StructField(Lot Shape,StringType,true),\n",
       " StructField(Land Contour,StringType,true),\n",
       " StructField(Utilities,StringType,true),\n",
       " StructField(Lot Config,StringType,true),\n",
       " StructField(Land Slope,StringType,true),\n",
       " StructField(Neighborhood,StringType,true),\n",
       " StructField(Condition 1,StringType,true),\n",
       " StructField(Condition 2,StringType,true),\n",
       " StructField(Bldg Type,StringType,true),\n",
       " StructField(House Style,StringType,true),\n",
       " StructField(Overall Qual,StringType,true),\n",
       " StructField(Overall Cond,StringType,true),\n",
       " StructField(Year Built,StringType,true),\n",
       " StructField(Year Remod/Add,StringType,true),\n",
       " StructField(Roof Style,StringType,true),\n",
       " StructField(Roof Matl,StringType,true),\n",
       " StructField(Exterior 1st,StringType,true),\n",
       " StructField(Exterior 2nd,StringType,true),\n",
       " StructField(Mas Vnr Type,StringType,true),\n",
       " StructField(Mas Vnr Area,StringType,true),\n",
       " StructField(Exter Qual,StringType,true),\n",
       " StructField(Exter Cond,StringType,true),\n",
       " StructField(Foundation,StringType,true),\n",
       " StructField(Bsmt Qual,StringType,true),\n",
       " StructField(Bsmt Cond,StringType,true),\n",
       " StructField(Bsmt Exposure,StringType,true),\n",
       " StructField(BsmtFin Type 1,StringType,true),\n",
       " StructField(BsmtFin SF 1,StringType,true),\n",
       " StructField(BsmtFin Type 2,StringType,true),\n",
       " StructField(BsmtFin SF 2,StringType,true),\n",
       " StructField(Bsmt Unf SF,StringType,true),\n",
       " StructField(Total Bsmt SF,StringType,true),\n",
       " StructField(Heating,StringType,true),\n",
       " StructField(Heating QC,StringType,true),\n",
       " StructField(Central Air,StringType,true),\n",
       " StructField(Electrical,StringType,true),\n",
       " StructField(1st Flr SF,StringType,true),\n",
       " StructField(2nd Flr SF,StringType,true),\n",
       " StructField(Low Qual Fin SF,StringType,true),\n",
       " StructField(Gr Liv Area,StringType,true),\n",
       " StructField(Bsmt Full Bath,StringType,true),\n",
       " StructField(Bsmt Half Bath,StringType,true),\n",
       " StructField(Full Bath,StringType,true),\n",
       " StructField(Half Bath,StringType,true),\n",
       " StructField(Bedroom AbvGr,StringType,true),\n",
       " StructField(Kitchen AbvGr,StringType,true),\n",
       " StructField(Kitchen Qual,StringType,true),\n",
       " StructField(TotRms AbvGrd,StringType,true),\n",
       " StructField(Functional,StringType,true),\n",
       " StructField(Fireplaces,StringType,true),\n",
       " StructField(Fireplace Qu,StringType,true),\n",
       " StructField(Garage Type,StringType,true),\n",
       " StructField(Garage Yr Blt,StringType,true),\n",
       " StructField(Garage Finish,StringType,true),\n",
       " StructField(Garage Cars,StringType,true),\n",
       " StructField(Garage Area,StringType,true),\n",
       " StructField(Garage Qual,StringType,true),\n",
       " StructField(Garage Cond,StringType,true),\n",
       " StructField(Paved Drive,StringType,true),\n",
       " StructField(Wood Deck SF,StringType,true),\n",
       " StructField(Open Porch SF,StringType,true),\n",
       " StructField(Enclosed Porch,StringType,true),\n",
       " StructField(3Ssn Porch,StringType,true),\n",
       " StructField(Screen Porch,StringType,true),\n",
       " StructField(Pool Area,StringType,true),\n",
       " StructField(Pool QC,StringType,true),\n",
       " StructField(Fence,StringType,true),\n",
       " StructField(Misc Feature,StringType,true),\n",
       " StructField(Misc Val,StringType,true),\n",
       " StructField(Mo Sold,StringType,true),\n",
       " StructField(Yr Sold,StringType,true),\n",
       " StructField(Sale Type,StringType,true),\n",
       " StructField(Sale Condition,StringType,true),\n",
       " StructField(SalePrice,StringType,true)]"
      ]
     },
     "execution_count": 12,
     "metadata": {},
     "output_type": "execute_result"
    }
   ],
   "source": [
    "fields"
   ]
  },
  {
   "cell_type": "code",
   "execution_count": 13,
   "metadata": {
    "collapsed": true
   },
   "outputs": [],
   "source": [
    "# here's our schema object\n",
    "schema = StructType(fields)"
   ]
  },
  {
   "cell_type": "code",
   "execution_count": 16,
   "metadata": {},
   "outputs": [],
   "source": [
    "# we need to remove the header from the rdd\n",
    "housing_header_rdd = housing.filter(lambda l: 'PID' in l)"
   ]
  },
  {
   "cell_type": "code",
   "execution_count": 17,
   "metadata": {},
   "outputs": [
    {
     "data": {
      "text/plain": [
       "['Order\\tPID\\tMS SubClass\\tMS Zoning\\tLot Frontage\\tLot Area\\tStreet\\tAlley\\tLot Shape\\tLand Contour\\tUtilities\\tLot Config\\tLand Slope\\tNeighborhood\\tCondition 1\\tCondition 2\\tBldg Type\\tHouse Style\\tOverall Qual\\tOverall Cond\\tYear Built\\tYear Remod/Add\\tRoof Style\\tRoof Matl\\tExterior 1st\\tExterior 2nd\\tMas Vnr Type\\tMas Vnr Area\\tExter Qual\\tExter Cond\\tFoundation\\tBsmt Qual\\tBsmt Cond\\tBsmt Exposure\\tBsmtFin Type 1\\tBsmtFin SF 1\\tBsmtFin Type 2\\tBsmtFin SF 2\\tBsmt Unf SF\\tTotal Bsmt SF\\tHeating\\tHeating QC\\tCentral Air\\tElectrical\\t1st Flr SF\\t2nd Flr SF\\tLow Qual Fin SF\\tGr Liv Area\\tBsmt Full Bath\\tBsmt Half Bath\\tFull Bath\\tHalf Bath\\tBedroom AbvGr\\tKitchen AbvGr\\tKitchen Qual\\tTotRms AbvGrd\\tFunctional\\tFireplaces\\tFireplace Qu\\tGarage Type\\tGarage Yr Blt\\tGarage Finish\\tGarage Cars\\tGarage Area\\tGarage Qual\\tGarage Cond\\tPaved Drive\\tWood Deck SF\\tOpen Porch SF\\tEnclosed Porch\\t3Ssn Porch\\tScreen Porch\\tPool Area\\tPool QC\\tFence\\tMisc Feature\\tMisc Val\\tMo Sold\\tYr Sold\\tSale Type\\tSale Condition\\tSalePrice']"
      ]
     },
     "execution_count": 17,
     "metadata": {},
     "output_type": "execute_result"
    }
   ],
   "source": [
    "housing_header_rdd.collect()"
   ]
  },
  {
   "cell_type": "code",
   "execution_count": 18,
   "metadata": {},
   "outputs": [
    {
     "data": {
      "text/plain": [
       "2931"
      ]
     },
     "execution_count": 18,
     "metadata": {},
     "output_type": "execute_result"
    }
   ],
   "source": [
    "housing.count()"
   ]
  },
  {
   "cell_type": "code",
   "execution_count": 19,
   "metadata": {},
   "outputs": [
    {
     "data": {
      "text/plain": [
       "2930"
      ]
     },
     "execution_count": 19,
     "metadata": {},
     "output_type": "execute_result"
    }
   ],
   "source": [
    "# doing the removal\n",
    "housingNoHead = housing.subtract(housing_header_rdd)\n",
    "housingNoHead.count()"
   ]
  },
  {
   "cell_type": "code",
   "execution_count": 22,
   "metadata": {},
   "outputs": [],
   "source": [
    "# finally we create a nice dataframe using the schema\n",
    "df3 = spark.createDataFrame(housingNoHead.map(lambda l: l.split('\\t')), schema)"
   ]
  },
  {
   "cell_type": "code",
   "execution_count": 23,
   "metadata": {},
   "outputs": [
    {
     "data": {
      "text/plain": [
       "[Row(Order='12', PID='0527165230', MS SubClass='020', MS Zoning='RL', Lot Frontage='', Lot Area='7980', Street='Pave', Alley='NA', Lot Shape='IR1', Land Contour='Lvl', Utilities='AllPub', Lot Config='Inside', Land Slope='Gtl', Neighborhood='Gilbert', Condition 1='Norm', Condition 2='Norm', Bldg Type='1Fam', House Style='1Story', Overall Qual='6', Overall Cond='7', Year Built='1992', Year Remod/Add='2007', Roof Style='Gable', Roof Matl='CompShg', Exterior 1st='HdBoard', Exterior 2nd='HdBoard', Mas Vnr Type='None', Mas Vnr Area='0', Exter Qual='TA', Exter Cond='Gd', Foundation='PConc', Bsmt Qual='Gd', Bsmt Cond='TA', Bsmt Exposure='No', BsmtFin Type 1='ALQ', BsmtFin SF 1='935', BsmtFin Type 2='Unf', BsmtFin SF 2='0', Bsmt Unf SF='233', Total Bsmt SF='1168', Heating='GasA', Heating QC='Ex', Central Air='Y', Electrical='SBrkr', 1st Flr SF='1187', 2nd Flr SF='0', Low Qual Fin SF='0', Gr Liv Area='1187', Bsmt Full Bath='1', Bsmt Half Bath='0', Full Bath='2', Half Bath='0', Bedroom AbvGr='3', Kitchen AbvGr='1', Kitchen Qual='TA', TotRms AbvGrd='6', Functional='Typ', Fireplaces='0', Fireplace Qu='NA', Garage Type='Attchd', Garage Yr Blt='1992', Garage Finish='Fin', Garage Cars='2', Garage Area='420', Garage Qual='TA', Garage Cond='TA', Paved Drive='Y', Wood Deck SF='483', Open Porch SF='21', Enclosed Porch='0', 3Ssn Porch='0', Screen Porch='0', Pool Area='0', Pool QC='NA', Fence='GdPrv', Misc Feature='Shed', Misc Val='500', Mo Sold='3', Yr Sold='2010', Sale Type='WD ', Sale Condition='Normal', SalePrice='185000'),\n",
       " Row(Order='13', PID='0527166040', MS SubClass='060', MS Zoning='RL', Lot Frontage='63', Lot Area='8402', Street='Pave', Alley='NA', Lot Shape='IR1', Land Contour='Lvl', Utilities='AllPub', Lot Config='Inside', Land Slope='Gtl', Neighborhood='Gilbert', Condition 1='Norm', Condition 2='Norm', Bldg Type='1Fam', House Style='2Story', Overall Qual='6', Overall Cond='5', Year Built='1998', Year Remod/Add='1998', Roof Style='Gable', Roof Matl='CompShg', Exterior 1st='VinylSd', Exterior 2nd='VinylSd', Mas Vnr Type='None', Mas Vnr Area='0', Exter Qual='TA', Exter Cond='TA', Foundation='PConc', Bsmt Qual='Gd', Bsmt Cond='TA', Bsmt Exposure='No', BsmtFin Type 1='Unf', BsmtFin SF 1='0', BsmtFin Type 2='Unf', BsmtFin SF 2='0', Bsmt Unf SF='789', Total Bsmt SF='789', Heating='GasA', Heating QC='Gd', Central Air='Y', Electrical='SBrkr', 1st Flr SF='789', 2nd Flr SF='676', Low Qual Fin SF='0', Gr Liv Area='1465', Bsmt Full Bath='0', Bsmt Half Bath='0', Full Bath='2', Half Bath='1', Bedroom AbvGr='3', Kitchen AbvGr='1', Kitchen Qual='TA', TotRms AbvGrd='7', Functional='Typ', Fireplaces='1', Fireplace Qu='Gd', Garage Type='Attchd', Garage Yr Blt='1998', Garage Finish='Fin', Garage Cars='2', Garage Area='393', Garage Qual='TA', Garage Cond='TA', Paved Drive='Y', Wood Deck SF='0', Open Porch SF='75', Enclosed Porch='0', 3Ssn Porch='0', Screen Porch='0', Pool Area='0', Pool QC='NA', Fence='NA', Misc Feature='NA', Misc Val='0', Mo Sold='5', Yr Sold='2010', Sale Type='WD ', Sale Condition='Normal', SalePrice='180400'),\n",
       " Row(Order='16', PID='0527216070', MS SubClass='060', MS Zoning='RL', Lot Frontage='47', Lot Area='53504', Street='Pave', Alley='NA', Lot Shape='IR2', Land Contour='HLS', Utilities='AllPub', Lot Config='CulDSac', Land Slope='Mod', Neighborhood='StoneBr', Condition 1='Norm', Condition 2='Norm', Bldg Type='1Fam', House Style='2Story', Overall Qual='8', Overall Cond='5', Year Built='2003', Year Remod/Add='2003', Roof Style='Hip', Roof Matl='CompShg', Exterior 1st='CemntBd', Exterior 2nd='Wd Shng', Mas Vnr Type='BrkFace', Mas Vnr Area='603', Exter Qual='Ex', Exter Cond='TA', Foundation='PConc', Bsmt Qual='Gd', Bsmt Cond='TA', Bsmt Exposure='Gd', BsmtFin Type 1='ALQ', BsmtFin SF 1='1416', BsmtFin Type 2='Unf', BsmtFin SF 2='0', Bsmt Unf SF='234', Total Bsmt SF='1650', Heating='GasA', Heating QC='Ex', Central Air='Y', Electrical='SBrkr', 1st Flr SF='1690', 2nd Flr SF='1589', Low Qual Fin SF='0', Gr Liv Area='3279', Bsmt Full Bath='1', Bsmt Half Bath='0', Full Bath='3', Half Bath='1', Bedroom AbvGr='4', Kitchen AbvGr='1', Kitchen Qual='Ex', TotRms AbvGrd='12', Functional='Mod', Fireplaces='1', Fireplace Qu='Gd', Garage Type='BuiltIn', Garage Yr Blt='2003', Garage Finish='Fin', Garage Cars='3', Garage Area='841', Garage Qual='TA', Garage Cond='TA', Paved Drive='Y', Wood Deck SF='503', Open Porch SF='36', Enclosed Porch='0', 3Ssn Porch='0', Screen Porch='210', Pool Area='0', Pool QC='NA', Fence='NA', Misc Feature='NA', Misc Val='0', Mo Sold='6', Yr Sold='2010', Sale Type='WD ', Sale Condition='Normal', SalePrice='538000'),\n",
       " Row(Order='18', PID='0527258010', MS SubClass='020', MS Zoning='RL', Lot Frontage='88', Lot Area='11394', Street='Pave', Alley='NA', Lot Shape='Reg', Land Contour='Lvl', Utilities='AllPub', Lot Config='Corner', Land Slope='Gtl', Neighborhood='StoneBr', Condition 1='Norm', Condition 2='Norm', Bldg Type='1Fam', House Style='1Story', Overall Qual='9', Overall Cond='2', Year Built='2010', Year Remod/Add='2010', Roof Style='Hip', Roof Matl='CompShg', Exterior 1st='VinylSd', Exterior 2nd='VinylSd', Mas Vnr Type='Stone', Mas Vnr Area='350', Exter Qual='Gd', Exter Cond='TA', Foundation='PConc', Bsmt Qual='Ex', Bsmt Cond='TA', Bsmt Exposure='Av', BsmtFin Type 1='GLQ', BsmtFin SF 1='1445', BsmtFin Type 2='Unf', BsmtFin SF 2='0', Bsmt Unf SF='411', Total Bsmt SF='1856', Heating='GasA', Heating QC='Ex', Central Air='Y', Electrical='SBrkr', 1st Flr SF='1856', 2nd Flr SF='0', Low Qual Fin SF='0', Gr Liv Area='1856', Bsmt Full Bath='1', Bsmt Half Bath='0', Full Bath='1', Half Bath='1', Bedroom AbvGr='1', Kitchen AbvGr='1', Kitchen Qual='Ex', TotRms AbvGrd='8', Functional='Typ', Fireplaces='1', Fireplace Qu='Ex', Garage Type='Attchd', Garage Yr Blt='2010', Garage Finish='Fin', Garage Cars='3', Garage Area='834', Garage Qual='TA', Garage Cond='TA', Paved Drive='Y', Wood Deck SF='113', Open Porch SF='0', Enclosed Porch='0', 3Ssn Porch='0', Screen Porch='0', Pool Area='0', Pool QC='NA', Fence='NA', Misc Feature='NA', Misc Val='0', Mo Sold='6', Yr Sold='2010', Sale Type='New', Sale Condition='Partial', SalePrice='394432'),\n",
       " Row(Order='19', PID='0527276150', MS SubClass='020', MS Zoning='RL', Lot Frontage='140', Lot Area='19138', Street='Pave', Alley='NA', Lot Shape='Reg', Land Contour='Lvl', Utilities='AllPub', Lot Config='Corner', Land Slope='Gtl', Neighborhood='Gilbert', Condition 1='Norm', Condition 2='Norm', Bldg Type='1Fam', House Style='1Story', Overall Qual='4', Overall Cond='5', Year Built='1951', Year Remod/Add='1951', Roof Style='Gable', Roof Matl='CompShg', Exterior 1st='VinylSd', Exterior 2nd='VinylSd', Mas Vnr Type='None', Mas Vnr Area='0', Exter Qual='TA', Exter Cond='TA', Foundation='CBlock', Bsmt Qual='TA', Bsmt Cond='TA', Bsmt Exposure='No', BsmtFin Type 1='LwQ', BsmtFin SF 1='120', BsmtFin Type 2='Unf', BsmtFin SF 2='0', Bsmt Unf SF='744', Total Bsmt SF='864', Heating='GasA', Heating QC='Ex', Central Air='Y', Electrical='SBrkr', 1st Flr SF='864', 2nd Flr SF='0', Low Qual Fin SF='0', Gr Liv Area='864', Bsmt Full Bath='0', Bsmt Half Bath='0', Full Bath='1', Half Bath='0', Bedroom AbvGr='2', Kitchen AbvGr='1', Kitchen Qual='TA', TotRms AbvGrd='4', Functional='Typ', Fireplaces='0', Fireplace Qu='NA', Garage Type='Detchd', Garage Yr Blt='1951', Garage Finish='Unf', Garage Cars='2', Garage Area='400', Garage Qual='TA', Garage Cond='TA', Paved Drive='Y', Wood Deck SF='0', Open Porch SF='0', Enclosed Porch='0', 3Ssn Porch='0', Screen Porch='0', Pool Area='0', Pool QC='NA', Fence='NA', Misc Feature='NA', Misc Val='0', Mo Sold='6', Yr Sold='2010', Sale Type='WD ', Sale Condition='Normal', SalePrice='141000')]"
      ]
     },
     "execution_count": 23,
     "metadata": {},
     "output_type": "execute_result"
    }
   ],
   "source": [
    "# having a peak\n",
    "df3.take(5)"
   ]
  },
  {
   "cell_type": "code",
   "execution_count": 26,
   "metadata": {},
   "outputs": [
    {
     "name": "stdout",
     "output_type": "stream",
     "text": [
      "+-----+----------+-----------+---------+------------+--------+------+-----+---------+------------+---------+----------+----------+------------+-----------+-----------+---------+-----------+------------+------------+----------+--------------+----------+---------+------------+------------+------------+------------+----------+----------+----------+---------+---------+-------------+--------------+------------+--------------+------------+-----------+-------------+-------+----------+-----------+----------+----------+----------+---------------+-----------+--------------+--------------+---------+---------+-------------+-------------+------------+-------------+----------+----------+------------+-----------+-------------+-------------+-----------+-----------+-----------+-----------+-----------+------------+-------------+--------------+----------+------------+---------+-------+-----+------------+--------+-------+-------+---------+--------------+---------+\n",
      "|Order|       PID|MS SubClass|MS Zoning|Lot Frontage|Lot Area|Street|Alley|Lot Shape|Land Contour|Utilities|Lot Config|Land Slope|Neighborhood|Condition 1|Condition 2|Bldg Type|House Style|Overall Qual|Overall Cond|Year Built|Year Remod/Add|Roof Style|Roof Matl|Exterior 1st|Exterior 2nd|Mas Vnr Type|Mas Vnr Area|Exter Qual|Exter Cond|Foundation|Bsmt Qual|Bsmt Cond|Bsmt Exposure|BsmtFin Type 1|BsmtFin SF 1|BsmtFin Type 2|BsmtFin SF 2|Bsmt Unf SF|Total Bsmt SF|Heating|Heating QC|Central Air|Electrical|1st Flr SF|2nd Flr SF|Low Qual Fin SF|Gr Liv Area|Bsmt Full Bath|Bsmt Half Bath|Full Bath|Half Bath|Bedroom AbvGr|Kitchen AbvGr|Kitchen Qual|TotRms AbvGrd|Functional|Fireplaces|Fireplace Qu|Garage Type|Garage Yr Blt|Garage Finish|Garage Cars|Garage Area|Garage Qual|Garage Cond|Paved Drive|Wood Deck SF|Open Porch SF|Enclosed Porch|3Ssn Porch|Screen Porch|Pool Area|Pool QC|Fence|Misc Feature|Misc Val|Mo Sold|Yr Sold|Sale Type|Sale Condition|SalePrice|\n",
      "+-----+----------+-----------+---------+------------+--------+------+-----+---------+------------+---------+----------+----------+------------+-----------+-----------+---------+-----------+------------+------------+----------+--------------+----------+---------+------------+------------+------------+------------+----------+----------+----------+---------+---------+-------------+--------------+------------+--------------+------------+-----------+-------------+-------+----------+-----------+----------+----------+----------+---------------+-----------+--------------+--------------+---------+---------+-------------+-------------+------------+-------------+----------+----------+------------+-----------+-------------+-------------+-----------+-----------+-----------+-----------+-----------+------------+-------------+--------------+----------+------------+---------+-------+-----+------------+--------+-------+-------+---------+--------------+---------+\n",
      "|    1|0526301100|        020|       RL|         141|   31770|  Pave|   NA|      IR1|         Lvl|   AllPub|    Corner|       Gtl|       NAmes|       Norm|       Norm|     1Fam|     1Story|           6|           5|      1960|          1960|       Hip|  CompShg|     BrkFace|     Plywood|       Stone|         112|        TA|        TA|    CBlock|       TA|       Gd|           Gd|           BLQ|         639|           Unf|           0|        441|         1080|   GasA|        Fa|          Y|     SBrkr|      1656|         0|              0|       1656|             1|             0|        1|        0|            3|            1|          TA|            7|       Typ|         2|          Gd|     Attchd|         1960|          Fin|          2|        528|         TA|         TA|          P|         210|           62|             0|         0|           0|        0|     NA|   NA|          NA|       0|      5|   2010|      WD |        Normal|   215000|\n",
      "+-----+----------+-----------+---------+------------+--------+------+-----+---------+------------+---------+----------+----------+------------+-----------+-----------+---------+-----------+------------+------------+----------+--------------+----------+---------+------------+------------+------------+------------+----------+----------+----------+---------+---------+-------------+--------------+------------+--------------+------------+-----------+-------------+-------+----------+-----------+----------+----------+----------+---------------+-----------+--------------+--------------+---------+---------+-------------+-------------+------------+-------------+----------+----------+------------+-----------+-------------+-------------+-----------+-----------+-----------+-----------+-----------+------------+-------------+--------------+----------+------------+---------+-------+-----+------------+--------+-------+-------+---------+--------------+---------+\n",
      "\n"
     ]
    }
   ],
   "source": [
    "# trying a filter\n",
    "df3.filter(df3.Order == '1').show()"
   ]
  },
  {
   "cell_type": "code",
   "execution_count": 27,
   "metadata": {
    "collapsed": true
   },
   "outputs": [],
   "source": [
    "# define as a table for sql querying\n",
    "df3.createTempView('housing')"
   ]
  },
  {
   "cell_type": "code",
   "execution_count": 28,
   "metadata": {},
   "outputs": [
    {
     "name": "stdout",
     "output_type": "stream",
     "text": [
      "+-----+----------+-----------+---------+------------+--------+------+-----+---------+------------+---------+----------+----------+------------+-----------+-----------+---------+-----------+------------+------------+----------+--------------+----------+---------+------------+------------+------------+------------+----------+----------+----------+---------+---------+-------------+--------------+------------+--------------+------------+-----------+-------------+-------+----------+-----------+----------+----------+----------+---------------+-----------+--------------+--------------+---------+---------+-------------+-------------+------------+-------------+----------+----------+------------+-----------+-------------+-------------+-----------+-----------+-----------+-----------+-----------+------------+-------------+--------------+----------+------------+---------+-------+-----+------------+--------+-------+-------+---------+--------------+---------+\n",
      "|Order|       PID|MS SubClass|MS Zoning|Lot Frontage|Lot Area|Street|Alley|Lot Shape|Land Contour|Utilities|Lot Config|Land Slope|Neighborhood|Condition 1|Condition 2|Bldg Type|House Style|Overall Qual|Overall Cond|Year Built|Year Remod/Add|Roof Style|Roof Matl|Exterior 1st|Exterior 2nd|Mas Vnr Type|Mas Vnr Area|Exter Qual|Exter Cond|Foundation|Bsmt Qual|Bsmt Cond|Bsmt Exposure|BsmtFin Type 1|BsmtFin SF 1|BsmtFin Type 2|BsmtFin SF 2|Bsmt Unf SF|Total Bsmt SF|Heating|Heating QC|Central Air|Electrical|1st Flr SF|2nd Flr SF|Low Qual Fin SF|Gr Liv Area|Bsmt Full Bath|Bsmt Half Bath|Full Bath|Half Bath|Bedroom AbvGr|Kitchen AbvGr|Kitchen Qual|TotRms AbvGrd|Functional|Fireplaces|Fireplace Qu|Garage Type|Garage Yr Blt|Garage Finish|Garage Cars|Garage Area|Garage Qual|Garage Cond|Paved Drive|Wood Deck SF|Open Porch SF|Enclosed Porch|3Ssn Porch|Screen Porch|Pool Area|Pool QC|Fence|Misc Feature|Misc Val|Mo Sold|Yr Sold|Sale Type|Sale Condition|SalePrice|\n",
      "+-----+----------+-----------+---------+------------+--------+------+-----+---------+------------+---------+----------+----------+------------+-----------+-----------+---------+-----------+------------+------------+----------+--------------+----------+---------+------------+------------+------------+------------+----------+----------+----------+---------+---------+-------------+--------------+------------+--------------+------------+-----------+-------------+-------+----------+-----------+----------+----------+----------+---------------+-----------+--------------+--------------+---------+---------+-------------+-------------+------------+-------------+----------+----------+------------+-----------+-------------+-------------+-----------+-----------+-----------+-----------+-----------+------------+-------------+--------------+----------+------------+---------+-------+-----+------------+--------+-------+-------+---------+--------------+---------+\n",
      "|    1|0526301100|        020|       RL|         141|   31770|  Pave|   NA|      IR1|         Lvl|   AllPub|    Corner|       Gtl|       NAmes|       Norm|       Norm|     1Fam|     1Story|           6|           5|      1960|          1960|       Hip|  CompShg|     BrkFace|     Plywood|       Stone|         112|        TA|        TA|    CBlock|       TA|       Gd|           Gd|           BLQ|         639|           Unf|           0|        441|         1080|   GasA|        Fa|          Y|     SBrkr|      1656|         0|              0|       1656|             1|             0|        1|        0|            3|            1|          TA|            7|       Typ|         2|          Gd|     Attchd|         1960|          Fin|          2|        528|         TA|         TA|          P|         210|           62|             0|         0|           0|        0|     NA|   NA|          NA|       0|      5|   2010|      WD |        Normal|   215000|\n",
      "+-----+----------+-----------+---------+------------+--------+------+-----+---------+------------+---------+----------+----------+------------+-----------+-----------+---------+-----------+------------+------------+----------+--------------+----------+---------+------------+------------+------------+------------+----------+----------+----------+---------+---------+-------------+--------------+------------+--------------+------------+-----------+-------------+-------+----------+-----------+----------+----------+----------+---------------+-----------+--------------+--------------+---------+---------+-------------+-------------+------------+-------------+----------+----------+------------+-----------+-------------+-------------+-----------+-----------+-----------+-----------+-----------+------------+-------------+--------------+----------+------------+---------+-------+-----+------------+--------+-------+-------+---------+--------------+---------+\n",
      "\n"
     ]
    }
   ],
   "source": [
    "sample = spark.sql(\"select * from housing where order = '1'\")\n",
    "sample.show()"
   ]
  }
 ],
 "metadata": {
  "kernelspec": {
   "display_name": "Python 3",
   "language": "python",
   "name": "python3"
  },
  "language_info": {
   "codemirror_mode": {
    "name": "ipython",
    "version": 3
   },
   "file_extension": ".py",
   "mimetype": "text/x-python",
   "name": "python",
   "nbconvert_exporter": "python",
   "pygments_lexer": "ipython3",
   "version": "3.6.3"
  }
 },
 "nbformat": 4,
 "nbformat_minor": 2
}
