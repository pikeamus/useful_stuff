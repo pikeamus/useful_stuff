{
 "cells": [
  {
   "cell_type": "code",
   "execution_count": 1,
   "metadata": {
    "collapsed": true
   },
   "outputs": [],
   "source": [
    "import findspark\n",
    "findspark.init()"
   ]
  },
  {
   "cell_type": "code",
   "execution_count": 2,
   "metadata": {},
   "outputs": [],
   "source": [
    "import pyspark\n",
    "sc = pyspark.SparkContext()"
   ]
  },
  {
   "cell_type": "code",
   "execution_count": 3,
   "metadata": {
    "collapsed": true
   },
   "outputs": [],
   "source": [
    "# this looks ugly to me, but everyone does it...\n",
    "from pyspark.sql.types import *"
   ]
  },
  {
   "cell_type": "code",
   "execution_count": 4,
   "metadata": {
    "collapsed": true
   },
   "outputs": [],
   "source": [
    "from pyspark.sql import SparkSession\n",
    "\n",
    "spark = SparkSession.builder \\\n",
    "                    .appName('Test face') \\\n",
    "                    .getOrCreate()"
   ]
  },
  {
   "cell_type": "code",
   "execution_count": 5,
   "metadata": {
    "collapsed": true
   },
   "outputs": [],
   "source": [
    "# load file as a text file because the spark.read.text option is rubbish\n",
    "housing = sc.textFile('C:\\\\Users\\\\mroberts\\\\Documents\\\\AmesHousing.txt')"
   ]
  },
  {
   "cell_type": "code",
   "execution_count": 6,
   "metadata": {},
   "outputs": [
    {
     "data": {
      "text/plain": [
       "['Order\\tPID\\tMS SubClass\\tMS Zoning\\tLot Frontage\\tLot Area\\tStreet\\tAlley\\tLot Shape\\tLand Contour\\tUtilities\\tLot Config\\tLand Slope\\tNeighborhood\\tCondition 1\\tCondition 2\\tBldg Type\\tHouse Style\\tOverall Qual\\tOverall Cond\\tYear Built\\tYear Remod/Add\\tRoof Style\\tRoof Matl\\tExterior 1st\\tExterior 2nd\\tMas Vnr Type\\tMas Vnr Area\\tExter Qual\\tExter Cond\\tFoundation\\tBsmt Qual\\tBsmt Cond\\tBsmt Exposure\\tBsmtFin Type 1\\tBsmtFin SF 1\\tBsmtFin Type 2\\tBsmtFin SF 2\\tBsmt Unf SF\\tTotal Bsmt SF\\tHeating\\tHeating QC\\tCentral Air\\tElectrical\\t1st Flr SF\\t2nd Flr SF\\tLow Qual Fin SF\\tGr Liv Area\\tBsmt Full Bath\\tBsmt Half Bath\\tFull Bath\\tHalf Bath\\tBedroom AbvGr\\tKitchen AbvGr\\tKitchen Qual\\tTotRms AbvGrd\\tFunctional\\tFireplaces\\tFireplace Qu\\tGarage Type\\tGarage Yr Blt\\tGarage Finish\\tGarage Cars\\tGarage Area\\tGarage Qual\\tGarage Cond\\tPaved Drive\\tWood Deck SF\\tOpen Porch SF\\tEnclosed Porch\\t3Ssn Porch\\tScreen Porch\\tPool Area\\tPool QC\\tFence\\tMisc Feature\\tMisc Val\\tMo Sold\\tYr Sold\\tSale Type\\tSale Condition\\tSalePrice',\n",
       " '1\\t0526301100\\t020\\tRL\\t141\\t31770\\tPave\\tNA\\tIR1\\tLvl\\tAllPub\\tCorner\\tGtl\\tNAmes\\tNorm\\tNorm\\t1Fam\\t1Story\\t6\\t5\\t1960\\t1960\\tHip\\tCompShg\\tBrkFace\\tPlywood\\tStone\\t112\\tTA\\tTA\\tCBlock\\tTA\\tGd\\tGd\\tBLQ\\t639\\tUnf\\t0\\t441\\t1080\\tGasA\\tFa\\tY\\tSBrkr\\t1656\\t0\\t0\\t1656\\t1\\t0\\t1\\t0\\t3\\t1\\tTA\\t7\\tTyp\\t2\\tGd\\tAttchd\\t1960\\tFin\\t2\\t528\\tTA\\tTA\\tP\\t210\\t62\\t0\\t0\\t0\\t0\\tNA\\tNA\\tNA\\t0\\t5\\t2010\\tWD \\tNormal\\t215000',\n",
       " '2\\t0526350040\\t020\\tRH\\t80\\t11622\\tPave\\tNA\\tReg\\tLvl\\tAllPub\\tInside\\tGtl\\tNAmes\\tFeedr\\tNorm\\t1Fam\\t1Story\\t5\\t6\\t1961\\t1961\\tGable\\tCompShg\\tVinylSd\\tVinylSd\\tNone\\t0\\tTA\\tTA\\tCBlock\\tTA\\tTA\\tNo\\tRec\\t468\\tLwQ\\t144\\t270\\t882\\tGasA\\tTA\\tY\\tSBrkr\\t896\\t0\\t0\\t896\\t0\\t0\\t1\\t0\\t2\\t1\\tTA\\t5\\tTyp\\t0\\tNA\\tAttchd\\t1961\\tUnf\\t1\\t730\\tTA\\tTA\\tY\\t140\\t0\\t0\\t0\\t120\\t0\\tNA\\tMnPrv\\tNA\\t0\\t6\\t2010\\tWD \\tNormal\\t105000',\n",
       " '3\\t0526351010\\t020\\tRL\\t81\\t14267\\tPave\\tNA\\tIR1\\tLvl\\tAllPub\\tCorner\\tGtl\\tNAmes\\tNorm\\tNorm\\t1Fam\\t1Story\\t6\\t6\\t1958\\t1958\\tHip\\tCompShg\\tWd Sdng\\tWd Sdng\\tBrkFace\\t108\\tTA\\tTA\\tCBlock\\tTA\\tTA\\tNo\\tALQ\\t923\\tUnf\\t0\\t406\\t1329\\tGasA\\tTA\\tY\\tSBrkr\\t1329\\t0\\t0\\t1329\\t0\\t0\\t1\\t1\\t3\\t1\\tGd\\t6\\tTyp\\t0\\tNA\\tAttchd\\t1958\\tUnf\\t1\\t312\\tTA\\tTA\\tY\\t393\\t36\\t0\\t0\\t0\\t0\\tNA\\tNA\\tGar2\\t12500\\t6\\t2010\\tWD \\tNormal\\t172000',\n",
       " '4\\t0526353030\\t020\\tRL\\t93\\t11160\\tPave\\tNA\\tReg\\tLvl\\tAllPub\\tCorner\\tGtl\\tNAmes\\tNorm\\tNorm\\t1Fam\\t1Story\\t7\\t5\\t1968\\t1968\\tHip\\tCompShg\\tBrkFace\\tBrkFace\\tNone\\t0\\tGd\\tTA\\tCBlock\\tTA\\tTA\\tNo\\tALQ\\t1065\\tUnf\\t0\\t1045\\t2110\\tGasA\\tEx\\tY\\tSBrkr\\t2110\\t0\\t0\\t2110\\t1\\t0\\t2\\t1\\t3\\t1\\tEx\\t8\\tTyp\\t2\\tTA\\tAttchd\\t1968\\tFin\\t2\\t522\\tTA\\tTA\\tY\\t0\\t0\\t0\\t0\\t0\\t0\\tNA\\tNA\\tNA\\t0\\t4\\t2010\\tWD \\tNormal\\t244000']"
      ]
     },
     "execution_count": 6,
     "metadata": {},
     "output_type": "execute_result"
    }
   ],
   "source": [
    "housing.take(5)"
   ]
  },
  {
   "cell_type": "code",
   "execution_count": 7,
   "metadata": {
    "collapsed": true
   },
   "outputs": [],
   "source": [
    "# we're going to get the schema details from the header\n",
    "header = housing.first()"
   ]
  },
  {
   "cell_type": "code",
   "execution_count": 8,
   "metadata": {},
   "outputs": [
    {
     "data": {
      "text/plain": [
       "['Order',\n",
       " 'PID',\n",
       " 'MS SubClass',\n",
       " 'MS Zoning',\n",
       " 'Lot Frontage',\n",
       " 'Lot Area',\n",
       " 'Street',\n",
       " 'Alley',\n",
       " 'Lot Shape',\n",
       " 'Land Contour',\n",
       " 'Utilities',\n",
       " 'Lot Config',\n",
       " 'Land Slope',\n",
       " 'Neighborhood',\n",
       " 'Condition 1',\n",
       " 'Condition 2',\n",
       " 'Bldg Type',\n",
       " 'House Style',\n",
       " 'Overall Qual',\n",
       " 'Overall Cond',\n",
       " 'Year Built',\n",
       " 'Year Remod/Add',\n",
       " 'Roof Style',\n",
       " 'Roof Matl',\n",
       " 'Exterior 1st',\n",
       " 'Exterior 2nd',\n",
       " 'Mas Vnr Type',\n",
       " 'Mas Vnr Area',\n",
       " 'Exter Qual',\n",
       " 'Exter Cond',\n",
       " 'Foundation',\n",
       " 'Bsmt Qual',\n",
       " 'Bsmt Cond',\n",
       " 'Bsmt Exposure',\n",
       " 'BsmtFin Type 1',\n",
       " 'BsmtFin SF 1',\n",
       " 'BsmtFin Type 2',\n",
       " 'BsmtFin SF 2',\n",
       " 'Bsmt Unf SF',\n",
       " 'Total Bsmt SF',\n",
       " 'Heating',\n",
       " 'Heating QC',\n",
       " 'Central Air',\n",
       " 'Electrical',\n",
       " '1st Flr SF',\n",
       " '2nd Flr SF',\n",
       " 'Low Qual Fin SF',\n",
       " 'Gr Liv Area',\n",
       " 'Bsmt Full Bath',\n",
       " 'Bsmt Half Bath',\n",
       " 'Full Bath',\n",
       " 'Half Bath',\n",
       " 'Bedroom AbvGr',\n",
       " 'Kitchen AbvGr',\n",
       " 'Kitchen Qual',\n",
       " 'TotRms AbvGrd',\n",
       " 'Functional',\n",
       " 'Fireplaces',\n",
       " 'Fireplace Qu',\n",
       " 'Garage Type',\n",
       " 'Garage Yr Blt',\n",
       " 'Garage Finish',\n",
       " 'Garage Cars',\n",
       " 'Garage Area',\n",
       " 'Garage Qual',\n",
       " 'Garage Cond',\n",
       " 'Paved Drive',\n",
       " 'Wood Deck SF',\n",
       " 'Open Porch SF',\n",
       " 'Enclosed Porch',\n",
       " '3Ssn Porch',\n",
       " 'Screen Porch',\n",
       " 'Pool Area',\n",
       " 'Pool QC',\n",
       " 'Fence',\n",
       " 'Misc Feature',\n",
       " 'Misc Val',\n",
       " 'Mo Sold',\n",
       " 'Yr Sold',\n",
       " 'Sale Type',\n",
       " 'Sale Condition',\n",
       " 'SalePrice']"
      ]
     },
     "execution_count": 8,
     "metadata": {},
     "output_type": "execute_result"
    }
   ],
   "source": [
    "header.split('\\t')"
   ]
  },
  {
   "cell_type": "code",
   "execution_count": 9,
   "metadata": {},
   "outputs": [],
   "source": [
    "# get a field list to pass to the StructType class\n",
    "# NOTE: it would also be a good idea to remove spaces from field names here\n",
    "fields = [StructField(field_name.replace(' ','_').replace('/','_'), StringType(), True) for field_name in header.split('\\t')]"
   ]
  },
  {
   "cell_type": "code",
   "execution_count": 10,
   "metadata": {},
   "outputs": [
    {
     "name": "stdout",
     "output_type": "stream",
     "text": [
      "0   StructField(Order,StringType,true)\n",
      "1   StructField(PID,StringType,true)\n",
      "2   StructField(MS_SubClass,StringType,true)\n",
      "3   StructField(MS_Zoning,StringType,true)\n",
      "4   StructField(Lot_Frontage,StringType,true)\n",
      "5   StructField(Lot_Area,StringType,true)\n",
      "6   StructField(Street,StringType,true)\n",
      "7   StructField(Alley,StringType,true)\n",
      "8   StructField(Lot_Shape,StringType,true)\n",
      "9   StructField(Land_Contour,StringType,true)\n",
      "10   StructField(Utilities,StringType,true)\n",
      "11   StructField(Lot_Config,StringType,true)\n",
      "12   StructField(Land_Slope,StringType,true)\n",
      "13   StructField(Neighborhood,StringType,true)\n",
      "14   StructField(Condition_1,StringType,true)\n",
      "15   StructField(Condition_2,StringType,true)\n",
      "16   StructField(Bldg_Type,StringType,true)\n",
      "17   StructField(House_Style,StringType,true)\n",
      "18   StructField(Overall_Qual,StringType,true)\n",
      "19   StructField(Overall_Cond,StringType,true)\n",
      "20   StructField(Year_Built,StringType,true)\n",
      "21   StructField(Year_Remod_Add,StringType,true)\n",
      "22   StructField(Roof_Style,StringType,true)\n",
      "23   StructField(Roof_Matl,StringType,true)\n",
      "24   StructField(Exterior_1st,StringType,true)\n",
      "25   StructField(Exterior_2nd,StringType,true)\n",
      "26   StructField(Mas_Vnr_Type,StringType,true)\n",
      "27   StructField(Mas_Vnr_Area,StringType,true)\n",
      "28   StructField(Exter_Qual,StringType,true)\n",
      "29   StructField(Exter_Cond,StringType,true)\n",
      "30   StructField(Foundation,StringType,true)\n",
      "31   StructField(Bsmt_Qual,StringType,true)\n",
      "32   StructField(Bsmt_Cond,StringType,true)\n",
      "33   StructField(Bsmt_Exposure,StringType,true)\n",
      "34   StructField(BsmtFin_Type_1,StringType,true)\n",
      "35   StructField(BsmtFin_SF_1,StringType,true)\n",
      "36   StructField(BsmtFin_Type_2,StringType,true)\n",
      "37   StructField(BsmtFin_SF_2,StringType,true)\n",
      "38   StructField(Bsmt_Unf_SF,StringType,true)\n",
      "39   StructField(Total_Bsmt_SF,StringType,true)\n",
      "40   StructField(Heating,StringType,true)\n",
      "41   StructField(Heating_QC,StringType,true)\n",
      "42   StructField(Central_Air,StringType,true)\n",
      "43   StructField(Electrical,StringType,true)\n",
      "44   StructField(1st_Flr_SF,StringType,true)\n",
      "45   StructField(2nd_Flr_SF,StringType,true)\n",
      "46   StructField(Low_Qual_Fin_SF,StringType,true)\n",
      "47   StructField(Gr_Liv_Area,StringType,true)\n",
      "48   StructField(Bsmt_Full_Bath,StringType,true)\n",
      "49   StructField(Bsmt_Half_Bath,StringType,true)\n",
      "50   StructField(Full_Bath,StringType,true)\n",
      "51   StructField(Half_Bath,StringType,true)\n",
      "52   StructField(Bedroom_AbvGr,StringType,true)\n",
      "53   StructField(Kitchen_AbvGr,StringType,true)\n",
      "54   StructField(Kitchen_Qual,StringType,true)\n",
      "55   StructField(TotRms_AbvGrd,StringType,true)\n",
      "56   StructField(Functional,StringType,true)\n",
      "57   StructField(Fireplaces,StringType,true)\n",
      "58   StructField(Fireplace_Qu,StringType,true)\n",
      "59   StructField(Garage_Type,StringType,true)\n",
      "60   StructField(Garage_Yr_Blt,StringType,true)\n",
      "61   StructField(Garage_Finish,StringType,true)\n",
      "62   StructField(Garage_Cars,StringType,true)\n",
      "63   StructField(Garage_Area,StringType,true)\n",
      "64   StructField(Garage_Qual,StringType,true)\n",
      "65   StructField(Garage_Cond,StringType,true)\n",
      "66   StructField(Paved_Drive,StringType,true)\n",
      "67   StructField(Wood_Deck_SF,StringType,true)\n",
      "68   StructField(Open_Porch_SF,StringType,true)\n",
      "69   StructField(Enclosed_Porch,StringType,true)\n",
      "70   StructField(3Ssn_Porch,StringType,true)\n",
      "71   StructField(Screen_Porch,StringType,true)\n",
      "72   StructField(Pool_Area,StringType,true)\n",
      "73   StructField(Pool_QC,StringType,true)\n",
      "74   StructField(Fence,StringType,true)\n",
      "75   StructField(Misc_Feature,StringType,true)\n",
      "76   StructField(Misc_Val,StringType,true)\n",
      "77   StructField(Mo_Sold,StringType,true)\n",
      "78   StructField(Yr_Sold,StringType,true)\n",
      "79   StructField(Sale_Type,StringType,true)\n",
      "80   StructField(Sale_Condition,StringType,true)\n",
      "81   StructField(SalePrice,StringType,true)\n"
     ]
    }
   ],
   "source": [
    "for i, f in enumerate(fields):\n",
    "    print(i, ' ', f)"
   ]
  },
  {
   "cell_type": "code",
   "execution_count": 11,
   "metadata": {
    "collapsed": true
   },
   "outputs": [],
   "source": [
    "# here's our schema object\n",
    "schema = StructType(fields)"
   ]
  },
  {
   "cell_type": "code",
   "execution_count": 12,
   "metadata": {},
   "outputs": [],
   "source": [
    "# change datatype manually\n",
    "schema[81].dataType = FloatType()"
   ]
  },
  {
   "cell_type": "code",
   "execution_count": 13,
   "metadata": {},
   "outputs": [
    {
     "data": {
      "text/plain": [
       "StructField(SalePrice,FloatType,true)"
      ]
     },
     "execution_count": 13,
     "metadata": {},
     "output_type": "execute_result"
    }
   ],
   "source": [
    "schema[81]"
   ]
  },
  {
   "cell_type": "code",
   "execution_count": 14,
   "metadata": {
    "collapsed": true
   },
   "outputs": [],
   "source": [
    "# we need to remove the header from the rdd\n",
    "housing_header_rdd = housing.filter(lambda l: 'PID' in l)"
   ]
  },
  {
   "cell_type": "code",
   "execution_count": 15,
   "metadata": {},
   "outputs": [
    {
     "data": {
      "text/plain": [
       "['Order\\tPID\\tMS SubClass\\tMS Zoning\\tLot Frontage\\tLot Area\\tStreet\\tAlley\\tLot Shape\\tLand Contour\\tUtilities\\tLot Config\\tLand Slope\\tNeighborhood\\tCondition 1\\tCondition 2\\tBldg Type\\tHouse Style\\tOverall Qual\\tOverall Cond\\tYear Built\\tYear Remod/Add\\tRoof Style\\tRoof Matl\\tExterior 1st\\tExterior 2nd\\tMas Vnr Type\\tMas Vnr Area\\tExter Qual\\tExter Cond\\tFoundation\\tBsmt Qual\\tBsmt Cond\\tBsmt Exposure\\tBsmtFin Type 1\\tBsmtFin SF 1\\tBsmtFin Type 2\\tBsmtFin SF 2\\tBsmt Unf SF\\tTotal Bsmt SF\\tHeating\\tHeating QC\\tCentral Air\\tElectrical\\t1st Flr SF\\t2nd Flr SF\\tLow Qual Fin SF\\tGr Liv Area\\tBsmt Full Bath\\tBsmt Half Bath\\tFull Bath\\tHalf Bath\\tBedroom AbvGr\\tKitchen AbvGr\\tKitchen Qual\\tTotRms AbvGrd\\tFunctional\\tFireplaces\\tFireplace Qu\\tGarage Type\\tGarage Yr Blt\\tGarage Finish\\tGarage Cars\\tGarage Area\\tGarage Qual\\tGarage Cond\\tPaved Drive\\tWood Deck SF\\tOpen Porch SF\\tEnclosed Porch\\t3Ssn Porch\\tScreen Porch\\tPool Area\\tPool QC\\tFence\\tMisc Feature\\tMisc Val\\tMo Sold\\tYr Sold\\tSale Type\\tSale Condition\\tSalePrice']"
      ]
     },
     "execution_count": 15,
     "metadata": {},
     "output_type": "execute_result"
    }
   ],
   "source": [
    "housing_header_rdd.collect()"
   ]
  },
  {
   "cell_type": "code",
   "execution_count": 16,
   "metadata": {},
   "outputs": [
    {
     "data": {
      "text/plain": [
       "2931"
      ]
     },
     "execution_count": 16,
     "metadata": {},
     "output_type": "execute_result"
    }
   ],
   "source": [
    "housing.count()"
   ]
  },
  {
   "cell_type": "code",
   "execution_count": 17,
   "metadata": {},
   "outputs": [
    {
     "data": {
      "text/plain": [
       "2930"
      ]
     },
     "execution_count": 17,
     "metadata": {},
     "output_type": "execute_result"
    }
   ],
   "source": [
    "# doing the removal\n",
    "housingNoHead = housing.subtract(housing_header_rdd)\n",
    "housingNoHead.count()"
   ]
  },
  {
   "cell_type": "code",
   "execution_count": 18,
   "metadata": {},
   "outputs": [
    {
     "data": {
      "text/plain": [
       "['12\\t0527165230\\t020\\tRL\\t\\t7980\\tPave\\tNA\\tIR1\\tLvl\\tAllPub\\tInside\\tGtl\\tGilbert\\tNorm\\tNorm\\t1Fam\\t1Story\\t6\\t7\\t1992\\t2007\\tGable\\tCompShg\\tHdBoard\\tHdBoard\\tNone\\t0\\tTA\\tGd\\tPConc\\tGd\\tTA\\tNo\\tALQ\\t935\\tUnf\\t0\\t233\\t1168\\tGasA\\tEx\\tY\\tSBrkr\\t1187\\t0\\t0\\t1187\\t1\\t0\\t2\\t0\\t3\\t1\\tTA\\t6\\tTyp\\t0\\tNA\\tAttchd\\t1992\\tFin\\t2\\t420\\tTA\\tTA\\tY\\t483\\t21\\t0\\t0\\t0\\t0\\tNA\\tGdPrv\\tShed\\t500\\t3\\t2010\\tWD \\tNormal\\t185000']"
      ]
     },
     "execution_count": 18,
     "metadata": {},
     "output_type": "execute_result"
    }
   ],
   "source": [
    "housingNoHead.take(1)"
   ]
  },
  {
   "cell_type": "code",
   "execution_count": 19,
   "metadata": {},
   "outputs": [],
   "source": [
    "# finally we create a nice dataframe using the schema\n",
    "# bearing in mind that we have to convert the column to float values\n",
    "housingNoHead2 = housingNoHead.map(lambda l: l.split('\\t'))\n",
    "housingNoHead3 = housingNoHead2.map(lambda l: l[:len(l) - 1] + [float(l[-1])] )\n",
    "df3 = spark.createDataFrame(housingNoHead3, schema)\n",
    "#housingNoHead2.take(1)"
   ]
  },
  {
   "cell_type": "code",
   "execution_count": 20,
   "metadata": {},
   "outputs": [
    {
     "data": {
      "text/plain": [
       "[Row(Order='12', PID='0527165230', MS_SubClass='020', MS_Zoning='RL', Lot_Frontage='', Lot_Area='7980', Street='Pave', Alley='NA', Lot_Shape='IR1', Land_Contour='Lvl', Utilities='AllPub', Lot_Config='Inside', Land_Slope='Gtl', Neighborhood='Gilbert', Condition_1='Norm', Condition_2='Norm', Bldg_Type='1Fam', House_Style='1Story', Overall_Qual='6', Overall_Cond='7', Year_Built='1992', Year_Remod_Add='2007', Roof_Style='Gable', Roof_Matl='CompShg', Exterior_1st='HdBoard', Exterior_2nd='HdBoard', Mas_Vnr_Type='None', Mas_Vnr_Area='0', Exter_Qual='TA', Exter_Cond='Gd', Foundation='PConc', Bsmt_Qual='Gd', Bsmt_Cond='TA', Bsmt_Exposure='No', BsmtFin_Type_1='ALQ', BsmtFin_SF_1='935', BsmtFin_Type_2='Unf', BsmtFin_SF_2='0', Bsmt_Unf_SF='233', Total_Bsmt_SF='1168', Heating='GasA', Heating_QC='Ex', Central_Air='Y', Electrical='SBrkr', 1st_Flr_SF='1187', 2nd_Flr_SF='0', Low_Qual_Fin_SF='0', Gr_Liv_Area='1187', Bsmt_Full_Bath='1', Bsmt_Half_Bath='0', Full_Bath='2', Half_Bath='0', Bedroom_AbvGr='3', Kitchen_AbvGr='1', Kitchen_Qual='TA', TotRms_AbvGrd='6', Functional='Typ', Fireplaces='0', Fireplace_Qu='NA', Garage_Type='Attchd', Garage_Yr_Blt='1992', Garage_Finish='Fin', Garage_Cars='2', Garage_Area='420', Garage_Qual='TA', Garage_Cond='TA', Paved_Drive='Y', Wood_Deck_SF='483', Open_Porch_SF='21', Enclosed_Porch='0', 3Ssn_Porch='0', Screen_Porch='0', Pool_Area='0', Pool_QC='NA', Fence='GdPrv', Misc_Feature='Shed', Misc_Val='500', Mo_Sold='3', Yr_Sold='2010', Sale_Type='WD ', Sale_Condition='Normal', SalePrice=185000.0),\n",
       " Row(Order='13', PID='0527166040', MS_SubClass='060', MS_Zoning='RL', Lot_Frontage='63', Lot_Area='8402', Street='Pave', Alley='NA', Lot_Shape='IR1', Land_Contour='Lvl', Utilities='AllPub', Lot_Config='Inside', Land_Slope='Gtl', Neighborhood='Gilbert', Condition_1='Norm', Condition_2='Norm', Bldg_Type='1Fam', House_Style='2Story', Overall_Qual='6', Overall_Cond='5', Year_Built='1998', Year_Remod_Add='1998', Roof_Style='Gable', Roof_Matl='CompShg', Exterior_1st='VinylSd', Exterior_2nd='VinylSd', Mas_Vnr_Type='None', Mas_Vnr_Area='0', Exter_Qual='TA', Exter_Cond='TA', Foundation='PConc', Bsmt_Qual='Gd', Bsmt_Cond='TA', Bsmt_Exposure='No', BsmtFin_Type_1='Unf', BsmtFin_SF_1='0', BsmtFin_Type_2='Unf', BsmtFin_SF_2='0', Bsmt_Unf_SF='789', Total_Bsmt_SF='789', Heating='GasA', Heating_QC='Gd', Central_Air='Y', Electrical='SBrkr', 1st_Flr_SF='789', 2nd_Flr_SF='676', Low_Qual_Fin_SF='0', Gr_Liv_Area='1465', Bsmt_Full_Bath='0', Bsmt_Half_Bath='0', Full_Bath='2', Half_Bath='1', Bedroom_AbvGr='3', Kitchen_AbvGr='1', Kitchen_Qual='TA', TotRms_AbvGrd='7', Functional='Typ', Fireplaces='1', Fireplace_Qu='Gd', Garage_Type='Attchd', Garage_Yr_Blt='1998', Garage_Finish='Fin', Garage_Cars='2', Garage_Area='393', Garage_Qual='TA', Garage_Cond='TA', Paved_Drive='Y', Wood_Deck_SF='0', Open_Porch_SF='75', Enclosed_Porch='0', 3Ssn_Porch='0', Screen_Porch='0', Pool_Area='0', Pool_QC='NA', Fence='NA', Misc_Feature='NA', Misc_Val='0', Mo_Sold='5', Yr_Sold='2010', Sale_Type='WD ', Sale_Condition='Normal', SalePrice=180400.0),\n",
       " Row(Order='16', PID='0527216070', MS_SubClass='060', MS_Zoning='RL', Lot_Frontage='47', Lot_Area='53504', Street='Pave', Alley='NA', Lot_Shape='IR2', Land_Contour='HLS', Utilities='AllPub', Lot_Config='CulDSac', Land_Slope='Mod', Neighborhood='StoneBr', Condition_1='Norm', Condition_2='Norm', Bldg_Type='1Fam', House_Style='2Story', Overall_Qual='8', Overall_Cond='5', Year_Built='2003', Year_Remod_Add='2003', Roof_Style='Hip', Roof_Matl='CompShg', Exterior_1st='CemntBd', Exterior_2nd='Wd Shng', Mas_Vnr_Type='BrkFace', Mas_Vnr_Area='603', Exter_Qual='Ex', Exter_Cond='TA', Foundation='PConc', Bsmt_Qual='Gd', Bsmt_Cond='TA', Bsmt_Exposure='Gd', BsmtFin_Type_1='ALQ', BsmtFin_SF_1='1416', BsmtFin_Type_2='Unf', BsmtFin_SF_2='0', Bsmt_Unf_SF='234', Total_Bsmt_SF='1650', Heating='GasA', Heating_QC='Ex', Central_Air='Y', Electrical='SBrkr', 1st_Flr_SF='1690', 2nd_Flr_SF='1589', Low_Qual_Fin_SF='0', Gr_Liv_Area='3279', Bsmt_Full_Bath='1', Bsmt_Half_Bath='0', Full_Bath='3', Half_Bath='1', Bedroom_AbvGr='4', Kitchen_AbvGr='1', Kitchen_Qual='Ex', TotRms_AbvGrd='12', Functional='Mod', Fireplaces='1', Fireplace_Qu='Gd', Garage_Type='BuiltIn', Garage_Yr_Blt='2003', Garage_Finish='Fin', Garage_Cars='3', Garage_Area='841', Garage_Qual='TA', Garage_Cond='TA', Paved_Drive='Y', Wood_Deck_SF='503', Open_Porch_SF='36', Enclosed_Porch='0', 3Ssn_Porch='0', Screen_Porch='210', Pool_Area='0', Pool_QC='NA', Fence='NA', Misc_Feature='NA', Misc_Val='0', Mo_Sold='6', Yr_Sold='2010', Sale_Type='WD ', Sale_Condition='Normal', SalePrice=538000.0),\n",
       " Row(Order='18', PID='0527258010', MS_SubClass='020', MS_Zoning='RL', Lot_Frontage='88', Lot_Area='11394', Street='Pave', Alley='NA', Lot_Shape='Reg', Land_Contour='Lvl', Utilities='AllPub', Lot_Config='Corner', Land_Slope='Gtl', Neighborhood='StoneBr', Condition_1='Norm', Condition_2='Norm', Bldg_Type='1Fam', House_Style='1Story', Overall_Qual='9', Overall_Cond='2', Year_Built='2010', Year_Remod_Add='2010', Roof_Style='Hip', Roof_Matl='CompShg', Exterior_1st='VinylSd', Exterior_2nd='VinylSd', Mas_Vnr_Type='Stone', Mas_Vnr_Area='350', Exter_Qual='Gd', Exter_Cond='TA', Foundation='PConc', Bsmt_Qual='Ex', Bsmt_Cond='TA', Bsmt_Exposure='Av', BsmtFin_Type_1='GLQ', BsmtFin_SF_1='1445', BsmtFin_Type_2='Unf', BsmtFin_SF_2='0', Bsmt_Unf_SF='411', Total_Bsmt_SF='1856', Heating='GasA', Heating_QC='Ex', Central_Air='Y', Electrical='SBrkr', 1st_Flr_SF='1856', 2nd_Flr_SF='0', Low_Qual_Fin_SF='0', Gr_Liv_Area='1856', Bsmt_Full_Bath='1', Bsmt_Half_Bath='0', Full_Bath='1', Half_Bath='1', Bedroom_AbvGr='1', Kitchen_AbvGr='1', Kitchen_Qual='Ex', TotRms_AbvGrd='8', Functional='Typ', Fireplaces='1', Fireplace_Qu='Ex', Garage_Type='Attchd', Garage_Yr_Blt='2010', Garage_Finish='Fin', Garage_Cars='3', Garage_Area='834', Garage_Qual='TA', Garage_Cond='TA', Paved_Drive='Y', Wood_Deck_SF='113', Open_Porch_SF='0', Enclosed_Porch='0', 3Ssn_Porch='0', Screen_Porch='0', Pool_Area='0', Pool_QC='NA', Fence='NA', Misc_Feature='NA', Misc_Val='0', Mo_Sold='6', Yr_Sold='2010', Sale_Type='New', Sale_Condition='Partial', SalePrice=394432.0),\n",
       " Row(Order='19', PID='0527276150', MS_SubClass='020', MS_Zoning='RL', Lot_Frontage='140', Lot_Area='19138', Street='Pave', Alley='NA', Lot_Shape='Reg', Land_Contour='Lvl', Utilities='AllPub', Lot_Config='Corner', Land_Slope='Gtl', Neighborhood='Gilbert', Condition_1='Norm', Condition_2='Norm', Bldg_Type='1Fam', House_Style='1Story', Overall_Qual='4', Overall_Cond='5', Year_Built='1951', Year_Remod_Add='1951', Roof_Style='Gable', Roof_Matl='CompShg', Exterior_1st='VinylSd', Exterior_2nd='VinylSd', Mas_Vnr_Type='None', Mas_Vnr_Area='0', Exter_Qual='TA', Exter_Cond='TA', Foundation='CBlock', Bsmt_Qual='TA', Bsmt_Cond='TA', Bsmt_Exposure='No', BsmtFin_Type_1='LwQ', BsmtFin_SF_1='120', BsmtFin_Type_2='Unf', BsmtFin_SF_2='0', Bsmt_Unf_SF='744', Total_Bsmt_SF='864', Heating='GasA', Heating_QC='Ex', Central_Air='Y', Electrical='SBrkr', 1st_Flr_SF='864', 2nd_Flr_SF='0', Low_Qual_Fin_SF='0', Gr_Liv_Area='864', Bsmt_Full_Bath='0', Bsmt_Half_Bath='0', Full_Bath='1', Half_Bath='0', Bedroom_AbvGr='2', Kitchen_AbvGr='1', Kitchen_Qual='TA', TotRms_AbvGrd='4', Functional='Typ', Fireplaces='0', Fireplace_Qu='NA', Garage_Type='Detchd', Garage_Yr_Blt='1951', Garage_Finish='Unf', Garage_Cars='2', Garage_Area='400', Garage_Qual='TA', Garage_Cond='TA', Paved_Drive='Y', Wood_Deck_SF='0', Open_Porch_SF='0', Enclosed_Porch='0', 3Ssn_Porch='0', Screen_Porch='0', Pool_Area='0', Pool_QC='NA', Fence='NA', Misc_Feature='NA', Misc_Val='0', Mo_Sold='6', Yr_Sold='2010', Sale_Type='WD ', Sale_Condition='Normal', SalePrice=141000.0)]"
      ]
     },
     "execution_count": 20,
     "metadata": {},
     "output_type": "execute_result"
    }
   ],
   "source": [
    "# having a peak\n",
    "df3.take(5)"
   ]
  },
  {
   "cell_type": "code",
   "execution_count": 21,
   "metadata": {},
   "outputs": [
    {
     "name": "stdout",
     "output_type": "stream",
     "text": [
      "+-----+----------+-----------+---------+------------+--------+------+-----+---------+------------+---------+----------+----------+------------+-----------+-----------+---------+-----------+------------+------------+----------+--------------+----------+---------+------------+------------+------------+------------+----------+----------+----------+---------+---------+-------------+--------------+------------+--------------+------------+-----------+-------------+-------+----------+-----------+----------+----------+----------+---------------+-----------+--------------+--------------+---------+---------+-------------+-------------+------------+-------------+----------+----------+------------+-----------+-------------+-------------+-----------+-----------+-----------+-----------+-----------+------------+-------------+--------------+----------+------------+---------+-------+-----+------------+--------+-------+-------+---------+--------------+---------+\n",
      "|Order|       PID|MS_SubClass|MS_Zoning|Lot_Frontage|Lot_Area|Street|Alley|Lot_Shape|Land_Contour|Utilities|Lot_Config|Land_Slope|Neighborhood|Condition_1|Condition_2|Bldg_Type|House_Style|Overall_Qual|Overall_Cond|Year_Built|Year_Remod_Add|Roof_Style|Roof_Matl|Exterior_1st|Exterior_2nd|Mas_Vnr_Type|Mas_Vnr_Area|Exter_Qual|Exter_Cond|Foundation|Bsmt_Qual|Bsmt_Cond|Bsmt_Exposure|BsmtFin_Type_1|BsmtFin_SF_1|BsmtFin_Type_2|BsmtFin_SF_2|Bsmt_Unf_SF|Total_Bsmt_SF|Heating|Heating_QC|Central_Air|Electrical|1st_Flr_SF|2nd_Flr_SF|Low_Qual_Fin_SF|Gr_Liv_Area|Bsmt_Full_Bath|Bsmt_Half_Bath|Full_Bath|Half_Bath|Bedroom_AbvGr|Kitchen_AbvGr|Kitchen_Qual|TotRms_AbvGrd|Functional|Fireplaces|Fireplace_Qu|Garage_Type|Garage_Yr_Blt|Garage_Finish|Garage_Cars|Garage_Area|Garage_Qual|Garage_Cond|Paved_Drive|Wood_Deck_SF|Open_Porch_SF|Enclosed_Porch|3Ssn_Porch|Screen_Porch|Pool_Area|Pool_QC|Fence|Misc_Feature|Misc_Val|Mo_Sold|Yr_Sold|Sale_Type|Sale_Condition|SalePrice|\n",
      "+-----+----------+-----------+---------+------------+--------+------+-----+---------+------------+---------+----------+----------+------------+-----------+-----------+---------+-----------+------------+------------+----------+--------------+----------+---------+------------+------------+------------+------------+----------+----------+----------+---------+---------+-------------+--------------+------------+--------------+------------+-----------+-------------+-------+----------+-----------+----------+----------+----------+---------------+-----------+--------------+--------------+---------+---------+-------------+-------------+------------+-------------+----------+----------+------------+-----------+-------------+-------------+-----------+-----------+-----------+-----------+-----------+------------+-------------+--------------+----------+------------+---------+-------+-----+------------+--------+-------+-------+---------+--------------+---------+\n",
      "|    1|0526301100|        020|       RL|         141|   31770|  Pave|   NA|      IR1|         Lvl|   AllPub|    Corner|       Gtl|       NAmes|       Norm|       Norm|     1Fam|     1Story|           6|           5|      1960|          1960|       Hip|  CompShg|     BrkFace|     Plywood|       Stone|         112|        TA|        TA|    CBlock|       TA|       Gd|           Gd|           BLQ|         639|           Unf|           0|        441|         1080|   GasA|        Fa|          Y|     SBrkr|      1656|         0|              0|       1656|             1|             0|        1|        0|            3|            1|          TA|            7|       Typ|         2|          Gd|     Attchd|         1960|          Fin|          2|        528|         TA|         TA|          P|         210|           62|             0|         0|           0|        0|     NA|   NA|          NA|       0|      5|   2010|      WD |        Normal| 215000.0|\n",
      "+-----+----------+-----------+---------+------------+--------+------+-----+---------+------------+---------+----------+----------+------------+-----------+-----------+---------+-----------+------------+------------+----------+--------------+----------+---------+------------+------------+------------+------------+----------+----------+----------+---------+---------+-------------+--------------+------------+--------------+------------+-----------+-------------+-------+----------+-----------+----------+----------+----------+---------------+-----------+--------------+--------------+---------+---------+-------------+-------------+------------+-------------+----------+----------+------------+-----------+-------------+-------------+-----------+-----------+-----------+-----------+-----------+------------+-------------+--------------+----------+------------+---------+-------+-----+------------+--------+-------+-------+---------+--------------+---------+\n",
      "\n"
     ]
    }
   ],
   "source": [
    "# trying a filter\n",
    "df3.filter(df3.Order == '1').show()"
   ]
  },
  {
   "cell_type": "code",
   "execution_count": 22,
   "metadata": {
    "collapsed": true
   },
   "outputs": [],
   "source": [
    "# define as a table for sql querying\n",
    "df3.createTempView('housing')"
   ]
  },
  {
   "cell_type": "code",
   "execution_count": 23,
   "metadata": {},
   "outputs": [
    {
     "name": "stdout",
     "output_type": "stream",
     "text": [
      "+-----+----------+-----------+---------+------------+--------+------+-----+---------+------------+---------+----------+----------+------------+-----------+-----------+---------+-----------+------------+------------+----------+--------------+----------+---------+------------+------------+------------+------------+----------+----------+----------+---------+---------+-------------+--------------+------------+--------------+------------+-----------+-------------+-------+----------+-----------+----------+----------+----------+---------------+-----------+--------------+--------------+---------+---------+-------------+-------------+------------+-------------+----------+----------+------------+-----------+-------------+-------------+-----------+-----------+-----------+-----------+-----------+------------+-------------+--------------+----------+------------+---------+-------+-----+------------+--------+-------+-------+---------+--------------+---------+\n",
      "|Order|       PID|MS_SubClass|MS_Zoning|Lot_Frontage|Lot_Area|Street|Alley|Lot_Shape|Land_Contour|Utilities|Lot_Config|Land_Slope|Neighborhood|Condition_1|Condition_2|Bldg_Type|House_Style|Overall_Qual|Overall_Cond|Year_Built|Year_Remod_Add|Roof_Style|Roof_Matl|Exterior_1st|Exterior_2nd|Mas_Vnr_Type|Mas_Vnr_Area|Exter_Qual|Exter_Cond|Foundation|Bsmt_Qual|Bsmt_Cond|Bsmt_Exposure|BsmtFin_Type_1|BsmtFin_SF_1|BsmtFin_Type_2|BsmtFin_SF_2|Bsmt_Unf_SF|Total_Bsmt_SF|Heating|Heating_QC|Central_Air|Electrical|1st_Flr_SF|2nd_Flr_SF|Low_Qual_Fin_SF|Gr_Liv_Area|Bsmt_Full_Bath|Bsmt_Half_Bath|Full_Bath|Half_Bath|Bedroom_AbvGr|Kitchen_AbvGr|Kitchen_Qual|TotRms_AbvGrd|Functional|Fireplaces|Fireplace_Qu|Garage_Type|Garage_Yr_Blt|Garage_Finish|Garage_Cars|Garage_Area|Garage_Qual|Garage_Cond|Paved_Drive|Wood_Deck_SF|Open_Porch_SF|Enclosed_Porch|3Ssn_Porch|Screen_Porch|Pool_Area|Pool_QC|Fence|Misc_Feature|Misc_Val|Mo_Sold|Yr_Sold|Sale_Type|Sale_Condition|SalePrice|\n",
      "+-----+----------+-----------+---------+------------+--------+------+-----+---------+------------+---------+----------+----------+------------+-----------+-----------+---------+-----------+------------+------------+----------+--------------+----------+---------+------------+------------+------------+------------+----------+----------+----------+---------+---------+-------------+--------------+------------+--------------+------------+-----------+-------------+-------+----------+-----------+----------+----------+----------+---------------+-----------+--------------+--------------+---------+---------+-------------+-------------+------------+-------------+----------+----------+------------+-----------+-------------+-------------+-----------+-----------+-----------+-----------+-----------+------------+-------------+--------------+----------+------------+---------+-------+-----+------------+--------+-------+-------+---------+--------------+---------+\n",
      "|    1|0526301100|        020|       RL|         141|   31770|  Pave|   NA|      IR1|         Lvl|   AllPub|    Corner|       Gtl|       NAmes|       Norm|       Norm|     1Fam|     1Story|           6|           5|      1960|          1960|       Hip|  CompShg|     BrkFace|     Plywood|       Stone|         112|        TA|        TA|    CBlock|       TA|       Gd|           Gd|           BLQ|         639|           Unf|           0|        441|         1080|   GasA|        Fa|          Y|     SBrkr|      1656|         0|              0|       1656|             1|             0|        1|        0|            3|            1|          TA|            7|       Typ|         2|          Gd|     Attchd|         1960|          Fin|          2|        528|         TA|         TA|          P|         210|           62|             0|         0|           0|        0|     NA|   NA|          NA|       0|      5|   2010|      WD |        Normal| 215000.0|\n",
      "+-----+----------+-----------+---------+------------+--------+------+-----+---------+------------+---------+----------+----------+------------+-----------+-----------+---------+-----------+------------+------------+----------+--------------+----------+---------+------------+------------+------------+------------+----------+----------+----------+---------+---------+-------------+--------------+------------+--------------+------------+-----------+-------------+-------+----------+-----------+----------+----------+----------+---------------+-----------+--------------+--------------+---------+---------+-------------+-------------+------------+-------------+----------+----------+------------+-----------+-------------+-------------+-----------+-----------+-----------+-----------+-----------+------------+-------------+--------------+----------+------------+---------+-------+-----+------------+--------+-------+-------+---------+--------------+---------+\n",
      "\n"
     ]
    }
   ],
   "source": [
    "sample = spark.sql(\"select * from housing where order = '1'\")\n",
    "sample.show()"
   ]
  },
  {
   "cell_type": "code",
   "execution_count": 24,
   "metadata": {},
   "outputs": [
    {
     "data": {
      "text/plain": [
       "'select MS_SubClass, MS_Zoning, Lot_Frontage, Lot_Area, Street, Alley, Lot_Shape, Land_Contour, Utilities, Lot_Config, Land_Slope, Neighborhood, Condition_1, Condition_2, Bldg_Type, House_Style, Overall_Qual, Overall_Cond, Year_Built, Year_Remod_Add, Roof_Style, Roof_Matl, Exterior_1st, Exterior_2nd, Mas_Vnr_Type, Mas_Vnr_Area, Exter_Qual, Exter_Cond, Foundation, Bsmt_Qual, Bsmt_Cond, Bsmt_Exposure, BsmtFin_Type_1, BsmtFin_SF_1, BsmtFin_Type_2, BsmtFin_SF_2, Bsmt_Unf_SF, Total_Bsmt_SF, Heating, Heating_QC, Central_Air, Electrical, 1st_Flr_SF, 2nd_Flr_SF, Low_Qual_Fin_SF, Gr_Liv_Area, Bsmt_Full_Bath, Bsmt_Half_Bath, Full_Bath, Half_Bath, Bedroom_AbvGr, Kitchen_AbvGr, Kitchen_Qual, TotRms_AbvGrd, Functional, Fireplaces, Fireplace_Qu, Garage_Type, Garage_Yr_Blt, Garage_Finish, Garage_Cars, Garage_Area, Garage_Qual, Garage_Cond, Paved_Drive, Wood_Deck_SF, Open_Porch_SF, Enclosed_Porch, 3Ssn_Porch, Screen_Porch, Pool_Area, Pool_QC, Fence, Misc_Feature, Misc_Val, Mo_Sold, Yr_Sold, Sale_Type, Sale_Condition, sum(SalePrice) as SalePrice from housing group by MS_SubClass, MS_Zoning, Lot_Frontage, Lot_Area, Street, Alley, Lot_Shape, Land_Contour, Utilities, Lot_Config, Land_Slope, Neighborhood, Condition_1, Condition_2, Bldg_Type, House_Style, Overall_Qual, Overall_Cond, Year_Built, Year_Remod_Add, Roof_Style, Roof_Matl, Exterior_1st, Exterior_2nd, Mas_Vnr_Type, Mas_Vnr_Area, Exter_Qual, Exter_Cond, Foundation, Bsmt_Qual, Bsmt_Cond, Bsmt_Exposure, BsmtFin_Type_1, BsmtFin_SF_1, BsmtFin_Type_2, BsmtFin_SF_2, Bsmt_Unf_SF, Total_Bsmt_SF, Heating, Heating_QC, Central_Air, Electrical, 1st_Flr_SF, 2nd_Flr_SF, Low_Qual_Fin_SF, Gr_Liv_Area, Bsmt_Full_Bath, Bsmt_Half_Bath, Full_Bath, Half_Bath, Bedroom_AbvGr, Kitchen_AbvGr, Kitchen_Qual, TotRms_AbvGrd, Functional, Fireplaces, Fireplace_Qu, Garage_Type, Garage_Yr_Blt, Garage_Finish, Garage_Cars, Garage_Area, Garage_Qual, Garage_Cond, Paved_Drive, Wood_Deck_SF, Open_Porch_SF, Enclosed_Porch, 3Ssn_Porch, Screen_Porch, Pool_Area, Pool_QC, Fence, Misc_Feature, Misc_Val, Mo_Sold, Yr_Sold, Sale_Type, Sale_Condition limit 1'"
      ]
     },
     "execution_count": 24,
     "metadata": {},
     "output_type": "execute_result"
    }
   ],
   "source": [
    "# quick method to include all but a few columns in select and group by clauses\n",
    "c = df3.columns\n",
    "c = [col.replace(' ','_').replace('/','_') for col in c if col not in ['SalePrice','PID','Order']]\n",
    "c = ', '.join(c)\n",
    "strSQL = \"select {}, sum(SalePrice) as SalePrice from housing group by {} limit 1\".format(c, c)\n",
    "strSQL"
   ]
  },
  {
   "cell_type": "code",
   "execution_count": 25,
   "metadata": {},
   "outputs": [
    {
     "name": "stdout",
     "output_type": "stream",
     "text": [
      "+-----------+---------+------------+--------+------+-----+---------+------------+---------+----------+----------+------------+-----------+-----------+---------+-----------+------------+------------+----------+--------------+----------+---------+------------+------------+------------+------------+----------+----------+----------+---------+---------+-------------+--------------+------------+--------------+------------+-----------+-------------+-------+----------+-----------+----------+----------+----------+---------------+-----------+--------------+--------------+---------+---------+-------------+-------------+------------+-------------+----------+----------+------------+-----------+-------------+-------------+-----------+-----------+-----------+-----------+-----------+------------+-------------+--------------+----------+------------+---------+-------+-----+------------+--------+-------+-------+---------+--------------+---------+\n",
      "|MS_SubClass|MS_Zoning|Lot_Frontage|Lot_Area|Street|Alley|Lot_Shape|Land_Contour|Utilities|Lot_Config|Land_Slope|Neighborhood|Condition_1|Condition_2|Bldg_Type|House_Style|Overall_Qual|Overall_Cond|Year_Built|Year_Remod_Add|Roof_Style|Roof_Matl|Exterior_1st|Exterior_2nd|Mas_Vnr_Type|Mas_Vnr_Area|Exter_Qual|Exter_Cond|Foundation|Bsmt_Qual|Bsmt_Cond|Bsmt_Exposure|BsmtFin_Type_1|BsmtFin_SF_1|BsmtFin_Type_2|BsmtFin_SF_2|Bsmt_Unf_SF|Total_Bsmt_SF|Heating|Heating_QC|Central_Air|Electrical|1st_Flr_SF|2nd_Flr_SF|Low_Qual_Fin_SF|Gr_Liv_Area|Bsmt_Full_Bath|Bsmt_Half_Bath|Full_Bath|Half_Bath|Bedroom_AbvGr|Kitchen_AbvGr|Kitchen_Qual|TotRms_AbvGrd|Functional|Fireplaces|Fireplace_Qu|Garage_Type|Garage_Yr_Blt|Garage_Finish|Garage_Cars|Garage_Area|Garage_Qual|Garage_Cond|Paved_Drive|Wood_Deck_SF|Open_Porch_SF|Enclosed_Porch|3Ssn_Porch|Screen_Porch|Pool_Area|Pool_QC|Fence|Misc_Feature|Misc_Val|Mo_Sold|Yr_Sold|Sale_Type|Sale_Condition|SalePrice|\n",
      "+-----------+---------+------------+--------+------+-----+---------+------------+---------+----------+----------+------------+-----------+-----------+---------+-----------+------------+------------+----------+--------------+----------+---------+------------+------------+------------+------------+----------+----------+----------+---------+---------+-------------+--------------+------------+--------------+------------+-----------+-------------+-------+----------+-----------+----------+----------+----------+---------------+-----------+--------------+--------------+---------+---------+-------------+-------------+------------+-------------+----------+----------+------------+-----------+-------------+-------------+-----------+-----------+-----------+-----------+-----------+------------+-------------+--------------+----------+------------+---------+-------+-----+------------+--------+-------+-------+---------+--------------+---------+\n",
      "|        020|       RL|          65|   11479|  Pave|   NA|      Reg|         Lvl|   AllPub|    Inside|       Gtl|     Edwards|       Norm|       Norm|     1Fam|     1Story|           6|           7|      1950|          1987|     Gable|  CompShg|     Wd Sdng|     Plywood|        None|           0|        TA|        TA|    CBlock|       TA|       TA|           No|           GLQ|         104|           Rec|         387|        172|          663|   GasA|        Ex|          Y|     SBrkr|      1074|         0|              0|       1074|             1|             0|        1|        0|            3|            1|          Gd|            6|       Typ|         1|          TA|     Attchd|         1987|          Unf|          1|        467|         TA|         TA|          Y|           0|           52|            52|         0|           0|        0|     NA|MnPrv|          NA|       0|      6|   2010|      WD |        Normal| 144500.0|\n",
      "+-----------+---------+------------+--------+------+-----+---------+------------+---------+----------+----------+------------+-----------+-----------+---------+-----------+------------+------------+----------+--------------+----------+---------+------------+------------+------------+------------+----------+----------+----------+---------+---------+-------------+--------------+------------+--------------+------------+-----------+-------------+-------+----------+-----------+----------+----------+----------+---------------+-----------+--------------+--------------+---------+---------+-------------+-------------+------------+-------------+----------+----------+------------+-----------+-------------+-------------+-----------+-----------+-----------+-----------+-----------+------------+-------------+--------------+----------+------------+---------+-------+-----+------------+--------+-------+-------+---------+--------------+---------+\n",
      "\n"
     ]
    }
   ],
   "source": [
    "spark.sql(strSQL).show()"
   ]
  },
  {
   "cell_type": "code",
   "execution_count": 26,
   "metadata": {
    "collapsed": true
   },
   "outputs": [],
   "source": [
    "sc.stop()"
   ]
  }
 ],
 "metadata": {
  "kernelspec": {
   "display_name": "Python 3",
   "language": "python",
   "name": "python3"
  },
  "language_info": {
   "codemirror_mode": {
    "name": "ipython",
    "version": 3
   },
   "file_extension": ".py",
   "mimetype": "text/x-python",
   "name": "python",
   "nbconvert_exporter": "python",
   "pygments_lexer": "ipython3",
   "version": "3.6.3"
  }
 },
 "nbformat": 4,
 "nbformat_minor": 2
}
