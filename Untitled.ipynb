{
 "cells": [
  {
   "cell_type": "code",
   "execution_count": 1,
   "metadata": {
    "collapsed": true
   },
   "outputs": [],
   "source": [
    "# Find path to PySpark.\n",
    "import findspark\n",
    "findspark.init()\n",
    "\n",
    "# Import PySpark and initialize SparkContext object.\n",
    "import pyspark\n",
    "sc = pyspark.SparkContext()\n"
   ]
  },
  {
   "cell_type": "code",
   "execution_count": 2,
   "metadata": {
    "collapsed": true
   },
   "outputs": [],
   "source": [
    "# Import SQLContext\n",
    "from pyspark.sql import SQLContext\n",
    "\n",
    "# Pass in the SparkContext object `sc`\n",
    "sqlCtx = SQLContext(sc)\n",
    "\n",
    "# Read JSON data into a DataFrame object `df`\n",
    "df = sqlCtx.read.csv('C:\\\\Users\\\\User\\\\Documents\\\\Python projects\\\\jeopardy.csv')"
   ]
  },
  {
   "cell_type": "code",
   "execution_count": 3,
   "metadata": {},
   "outputs": [
    {
     "name": "stdout",
     "output_type": "stream",
     "text": [
      "+-----------+----------+---------+--------------------+------+--------------------+--------------------+\n",
      "|        _c0|       _c1|      _c2|                 _c3|   _c4|                 _c5|                 _c6|\n",
      "+-----------+----------+---------+--------------------+------+--------------------+--------------------+\n",
      "|Show Number|  Air Date|    Round|            Category| Value|            Question|              Answer|\n",
      "|       4680|2004-12-31|Jeopardy!|             HISTORY|  $200|For the last 8 ye...|          Copernicus|\n",
      "|       4680|2004-12-31|Jeopardy!|ESPN's TOP 10 ALL...|  $200|No. 2: 1912 Olymp...|          Jim Thorpe|\n",
      "|       4680|2004-12-31|Jeopardy!|EVERYBODY TALKS A...|  $200|The city of Yuma ...|             Arizona|\n",
      "|       4680|2004-12-31|Jeopardy!|    THE COMPANY LINE|  $200|\"In 1963, live on...| this company ser...|\n",
      "|       4680|2004-12-31|Jeopardy!| EPITAPHS & TRIBUTES|  $200|Signer of the Dec...|          John Adams|\n",
      "|       4680|2004-12-31|Jeopardy!|      3-LETTER WORDS|  $200|In the title of a...|             the ant|\n",
      "|       4680|2004-12-31|Jeopardy!|             HISTORY|  $400|Built in 312 B.C....|      the Appian Way|\n",
      "|       4680|2004-12-31|Jeopardy!|ESPN's TOP 10 ALL...|  $400|No. 8: 30 steals ...|      Michael Jordan|\n",
      "|       4680|2004-12-31|Jeopardy!|EVERYBODY TALKS A...|  $400|In the winter of ...|          Washington|\n",
      "|       4680|2004-12-31|Jeopardy!|    THE COMPANY LINE|  $400|This housewares s...|      Crate & Barrel|\n",
      "|       4680|2004-12-31|Jeopardy!| EPITAPHS & TRIBUTES|  $400|\"\"\"And away we go\"\"\"|      Jackie Gleason|\n",
      "|       4680|2004-12-31|Jeopardy!|      3-LETTER WORDS|  $400|Cows regurgitate ...|             the cud|\n",
      "|       4680|2004-12-31|Jeopardy!|             HISTORY|  $600|In 1000 Rajaraja ...|Ceylon (or Sri La...|\n",
      "|       4680|2004-12-31|Jeopardy!|ESPN's TOP 10 ALL...|  $600|\"No. 1: Lettered ...|           Jim Brown|\n",
      "|       4680|2004-12-31|Jeopardy!|EVERYBODY TALKS A...|  $600|On June 28, 1994 ...|        the UV index|\n",
      "|       4680|2004-12-31|Jeopardy!|    THE COMPANY LINE|  $600|This company's Ac...|              Bulova|\n",
      "|       4680|2004-12-31|Jeopardy!| EPITAPHS & TRIBUTES|  $600|\"Outlaw: \"\"Murder...|         Jesse James|\n",
      "|       4680|2004-12-31|Jeopardy!|      3-LETTER WORDS|  $600|A small demon, or...|                 imp|\n",
      "|       4680|2004-12-31|Jeopardy!|             HISTORY|  $800|Karl led the firs...|   the International|\n",
      "+-----------+----------+---------+--------------------+------+--------------------+--------------------+\n",
      "only showing top 20 rows\n",
      "\n"
     ]
    }
   ],
   "source": [
    "df.show()"
   ]
  },
  {
   "cell_type": "code",
   "execution_count": 7,
   "metadata": {},
   "outputs": [
    {
     "data": {
      "text/plain": [
       "[['Show Number, Air Date, Round, Category, Value, Question, Answer'],\n",
       " ['4680,2004-12-31,Jeopardy!,\"HISTORY\",\"$200\",\"For the last 8 years of his life, Galileo was under house arrest for espousing this man\\'s theory\",\"Copernicus\"'],\n",
       " ['4680,2004-12-31,Jeopardy!,\"ESPN\\'s TOP 10 ALL-TIME ATHLETES\",\"$200\",\"No. 2: 1912 Olympian; football star at Carlisle Indian School; 6 MLB seasons with the Reds, Giants & Braves\",\"Jim Thorpe\"'],\n",
       " ['4680,2004-12-31,Jeopardy!,\"EVERYBODY TALKS ABOUT IT...\",\"$200\",\"The city of Yuma in this state has a record average of 4,055 hours of sunshine each year\",\"Arizona\"'],\n",
       " ['4680,2004-12-31,Jeopardy!,\"THE COMPANY LINE\",\"$200\",\"In 1963, live on \"\"The Art Linkletter Show\"\", this company served its billionth burger\",\"McDonald\\'s\"'],\n",
       " ['4680,2004-12-31,Jeopardy!,\"EPITAPHS & TRIBUTES\",\"$200\",\"Signer of the Dec. of Indep., framer of the Constitution of Mass., second President of the United States\",\"John Adams\"'],\n",
       " ['4680,2004-12-31,Jeopardy!,\"3-LETTER WORDS\",\"$200\",\"In the title of an Aesop fable, this insect shared billing with a grasshopper\",\"the ant\"'],\n",
       " ['4680,2004-12-31,Jeopardy!,\"HISTORY\",\"$400\",\"Built in 312 B.C. to link Rome & the South of Italy, it\\'s still in use today\",\"the Appian Way\"'],\n",
       " ['4680,2004-12-31,Jeopardy!,\"ESPN\\'s TOP 10 ALL-TIME ATHLETES\",\"$400\",\"No. 8: 30 steals for the Birmingham Barons; 2,306 steals for the Bulls\",\"Michael Jordan\"'],\n",
       " ['4680,2004-12-31,Jeopardy!,\"EVERYBODY TALKS ABOUT IT...\",\"$400\",\"In the winter of 1971-72, a record 1,122 inches of snow fell at Rainier Paradise Ranger Station in this state\",\"Washington\"']]"
      ]
     },
     "execution_count": 7,
     "metadata": {},
     "output_type": "execute_result"
    }
   ],
   "source": [
    "# Read `recent-grads.csv` in to an RDD.\n",
    "f = sc.textFile('C:\\\\Users\\\\User\\\\Documents\\\\Python projects\\\\jeopardy.csv')\n",
    "data = f.map(lambda line: line.split('\\n'))\n",
    "data.take(10)"
   ]
  },
  {
   "cell_type": "code",
   "execution_count": 4,
   "metadata": {
    "collapsed": true
   },
   "outputs": [],
   "source": [
    "sc.stop()"
   ]
  },
  {
   "cell_type": "code",
   "execution_count": 1,
   "metadata": {},
   "outputs": [
    {
     "data": {
      "text/plain": [
       "[<matplotlib.lines.Line2D at 0x27e1e35a860>]"
      ]
     },
     "execution_count": 1,
     "metadata": {},
     "output_type": "execute_result"
    },
    {
     "data": {
      "image/png": "[encoded data removed]",
      "text/plain": [
       "<matplotlib.figure.Figure at 0x27e204f82b0>"
      ]
     },
     "metadata": {},
     "output_type": "display_data"
    }
   ],
   "source": [
    "import numpy as np\n",
    "import matplotlib.pyplot as plt\n",
    "%matplotlib inline\n",
    "\n",
    "x = np.linspace(0,10)\n",
    "y1 = x + 2\n",
    "y2 = x*2 + 2\n",
    "y3 = x*3 + 2\n",
    "\n",
    "plt.plot(x,y1,c='red')\n",
    "plt.plot(x,y2,c='green')\n",
    "plt.plot(x,y3,c='blue')"
   ]
  },
  {
   "cell_type": "code",
   "execution_count": 1,
   "metadata": {},
   "outputs": [
    {
     "data": {
      "text/plain": [
       "'3.6.1 |Anaconda 4.4.0 (64-bit)| (default, May 11 2017, 13:25:24) [MSC v.1900 64 bit (AMD64)]'"
      ]
     },
     "execution_count": 1,
     "metadata": {},
     "output_type": "execute_result"
    }
   ],
   "source": [
    "import sys\n",
    "\n",
    "sys.version"
   ]
  },
  {
   "cell_type": "code",
   "execution_count": 2,
   "metadata": {},
   "outputs": [
    {
     "name": "stdout",
     "output_type": "stream",
     "text": [
      "\n",
      "Please wait a moment while I gather a list of all available modules...\n",
      "\n"
     ]
    },
    {
     "name": "stderr",
     "output_type": "stream",
     "text": [
      "C:\\Users\\User\\Anaconda3\\lib\\site-packages\\IPython\\kernel\\__init__.py:13: ShimWarning: The `IPython.kernel` package has been deprecated since IPython 4.0.You should import from ipykernel or jupyter_client instead.\n",
      "  \"You should import from ipykernel or jupyter_client instead.\", ShimWarning)\n",
      "C:\\Users\\User\\Anaconda3\\lib\\site-packages\\odo\\backends\\pandas.py:94: FutureWarning: pandas.tslib is deprecated and will be removed in a future version.\n",
      "You can access NaTType as type(pandas.NaT)\n",
      "  @convert.register((pd.Timestamp, pd.Timedelta), (pd.tslib.NaTType, type(None)))\n",
      "C:\\Users\\User\\Anaconda3\\lib\\site-packages\\blaze\\server\\server.py:17: ExtDeprecationWarning: Importing flask.ext.cors is deprecated, use flask_cors instead.\n",
      "  from flask.ext.cors import cross_origin\n",
      "C:\\Users\\User\\Anaconda3\\lib\\site-packages\\bokeh\\util\\deprecation.py:34: BokehDeprecationWarning: MPL compatibility can no longer be successfully maintained, and is now deprecated. All MPL compat functions will be removed completely on the release of Bokeh 1.0. See http://bokeh.pydata.org/en/latest/docs/releases/0.12.5.html for more information\n",
      "  warn(message)\n",
      "C:\\Users\\User\\Anaconda3\\lib\\site-packages\\matplotlib\\cbook.py:136: MatplotlibDeprecationWarning: The matplotlib.delaunay module was deprecated in version 1.4. Use matplotlib.tri.Triangulation instead.\n",
      "  warnings.warn(message, mplDeprecation, stacklevel=1)\n",
      "C:\\Users\\User\\Anaconda3\\lib\\site-packages\\nltk\\twitter\\__init__.py:20: UserWarning: The twython library has not been installed. Some functionality from the twitter package will not be available.\n",
      "  warnings.warn(\"The twython library has not been installed. \"\n",
      "C:\\Users\\User\\Anaconda3\\lib\\site-packages\\skimage\\viewer\\utils\\core.py:10: UserWarning: Recommended matplotlib backend is `Agg` for full skimage.viewer functionality.\n",
      "  warn(\"Recommended matplotlib backend is `Agg` for full \"\n",
      "C:\\Users\\User\\Anaconda3\\lib\\site-packages\\qtawesome\\iconic_font.py:268: UserWarning: You need to have a running QApplication to use QtAwesome!\n",
      "  warnings.warn(\"You need to have a running \"\n",
      "C:\\Users\\User\\Anaconda3\\lib\\site-packages\\statsmodels\\compat\\pandas.py:56: FutureWarning: The pandas.core.datetools module is deprecated and will be removed in a future version. Please use the pandas.tseries module instead.\n",
      "  from pandas.core import datetools\n"
     ]
    },
    {
     "name": "stdout",
     "output_type": "stream",
     "text": [
      "Crypto              cgi                 modulefinder        spyder_pylint\n",
      "Cython              cgitb               mpl_toolkits        sqlalchemy\n",
      "IPython             chardet             mpmath              sqlite3\n",
      "MySQLdb             chunk               msgpack             sre_compile\n",
      "OleFileIO_PL        click               msilib              sre_constants\n",
      "OpenSSL             cloudpickle         msvcrt              sre_parse\n",
      "PIL                 clyent              multipledispatch    ssl\n",
      "PyQt5               cmath               multiprocessing     sspi\n",
      "__future__          cmd                 navigator_updater   sspicon\n",
      "_ast                code                nbconvert           stat\n",
      "_asyncio            codecs              nbformat            statistics\n",
      "_bisect             codeop              netbios             statsmodels\n",
      "_blake2             collections         netrc               storemagic\n",
      "_bootlocale         colorama            networkx            string\n",
      "_bz2                colorsys            nltk                stringprep\n",
      "_cffi_backend       commctrl            nntplib             struct\n",
      "_codecs             compileall          nose                subprocess\n",
      "_codecs_cn          comtypes            notebook            sunau\n",
      "_codecs_hk          concurrent          nt                  symbol\n",
      "_codecs_iso2022     conda               ntpath              sympy\n",
      "_codecs_jp          conda_env           ntsecuritycon       sympyprinting\n",
      "_codecs_kr          configparser        nturl2path          symtable\n",
      "_codecs_tw          contextlib          numba               sys\n",
      "_collections        contextlib2         numbers             sysconfig\n",
      "_collections_abc    copy                numexpr             tables\n",
      "_compat_pickle      copyreg             numpy               tabnanny\n",
      "_compression        crypt               numpydoc            tarfile\n",
      "_csv                cryptography        odbc                tblib\n",
      "_ctypes             csv                 odo                 telnetlib\n",
      "_ctypes_test        ctypes              olefile             tempfile\n",
      "_datetime           curl                opcode              test\n",
      "_decimal            curses              openpyxl            test_path\n",
      "_dummy_thread       cwp                 operator            test_pycosat\n",
      "_elementtree        cx_Oracle           optparse            testpath\n",
      "_functools          cycler              os                  tests\n",
      "_hashlib            cython              packaging           textwrap\n",
      "_heapq              cythonmagic         pandas              this\n",
      "_imp                cytoolz             pandocfilters       threading\n",
      "_io                 dask                parser              time\n",
      "_json               datashape           partd               timeit\n",
      "_license            datetime            path                timer\n",
      "_locale             dateutil            pathlib             tkinter\n",
      "_lsprof             dbi                 pathlib2            tlz\n",
      "_lzma               dbm                 patsy               token\n",
      "_markupbase         dde                 pdb                 tokenize\n",
      "_md5                decimal             pep8                toolz\n",
      "_msi                decorator           perfmon             tornado\n",
      "_multibytecodec     difflib             pickle              trace\n",
      "_multiprocessing    dis                 pickleshare         traceback\n",
      "_mysql              distributed         pickletools         tracemalloc\n",
      "_mysql_exceptions   distutils           pip                 traitlets\n",
      "_nsis               doctest             pipes               tty\n",
      "_opcode             docutils            pkg_resources       turtle\n",
      "_operator           dummy_threading     pkgutil             turtledemo\n",
      "_osx_support        easy_install        platform            types\n",
      "_overlapped         email               plistlib            typing\n",
      "_pickle             encodings           ply                 unicodecsv\n",
      "_pydecimal          ensurepip           poplib              unicodedata\n",
      "_pyio               entrypoints         posixpath           unittest\n",
      "_pytest             enum                pprint              urllib\n",
      "_random             errno               profile             uu\n",
      "_sha1               et_xmlfile          prompt_toolkit      uuid\n",
      "_sha256             fastcache           pstats              venv\n",
      "_sha3               faulthandler        psutil              warnings\n",
      "_sha512             filecmp             pty                 wave\n",
      "_signal             fileinput           py                  wcwidth\n",
      "_sitebuiltins       findspark           py_compile          weakref\n",
      "_socket             flask               pyclbr              webbrowser\n",
      "_sqlite3            flask_cors          pycosat             werkzeug\n",
      "_sre                fnmatch             pycparser           wheel\n",
      "_ssl                formatter           pycurl              widgetsnbextension\n",
      "_stat               fractions           pydoc               win2kras\n",
      "_string             ftplib              pydoc_data          win32api\n",
      "_strptime           functools           pyexpat             win32clipboard\n",
      "_struct             gc                  pyflakes            win32com\n",
      "_symtable           genericpath         pygments            win32con\n",
      "_system_path        getopt              pylab               win32console\n",
      "_testbuffer         getpass             pylint              win32cred\n",
      "_testcapi           gettext             pyodbc              win32crypt\n",
      "_testconsole        gevent              pyparsing           win32cryptcon\n",
      "_testimportmultiple glob                pytest              win32event\n",
      "_testmultiphase     greenlet            pythoncom           win32evtlog\n",
      "_thread             gzip                pytz                win32evtlogutil\n",
      "_threading_local    h5py                pywin               win32file\n",
      "_tkinter            hashlib             pywin32_testutil    win32gui\n",
      "_tracemalloc        heapdict            pywintypes          win32gui_struct\n",
      "_warnings           heapq               pywt                win32help\n",
      "_weakref            hmac                pyximport           win32inet\n",
      "_weakrefset         html                qtawesome           win32inetcon\n",
      "_win32sysloader     html5lib            qtconsole           win32job\n",
      "_winapi             http                qtpy                win32lz\n",
      "_winxptheme         idlelib             queue               win32net\n",
      "abc                 idna                quopri              win32netcon\n",
      "adodbapi            imagesize           random              win32pdh\n",
      "afxres              imaplib             rasutil             win32pdhquery\n",
      "aifc                imghdr              re                  win32pdhutil\n",
      "alabaster           imp                 regcheck            win32pipe\n",
      "anaconda_navigator  importlib           regutil             win32print\n",
      "anaconda_project    inspect             reprlib             win32process\n",
      "antigravity         io                  requests            win32profile\n",
      "argparse            ipaddress           rlcompleter         win32ras\n",
      "array               ipykernel           rmagic              win32rcparser\n",
      "asn1crypto          ipykernel_launcher  rope                win32security\n",
      "ast                 ipython_genutils    ruamel_yaml         win32service\n",
      "astroid             ipywidgets          run                 win32serviceutil\n",
      "astropy             isapi               runpy               win32timezone\n",
      "asynchat            isort               sched               win32trace\n",
      "asyncio             itertools           scipy               win32traceutil\n",
      "asyncore            itsdangerous        scripts             win32transaction\n",
      "atexit              jdcal               seaborn             win32ts\n",
      "audioop             jedi                secrets             win32ui\n",
      "autoreload          jinja2              select              win32uiole\n",
      "babel               json                selectors           win32verstamp\n",
      "backports           jsonschema          servicemanager      win32wnet\n",
      "base64              jupyter             setuptools          win_unicode_console\n",
      "bdb                 jupyter_client      shelve              winerror\n",
      "binascii            jupyter_console     shlex               winioctlcon\n",
      "binhex              jupyter_core        shutil              winnt\n",
      "binstar_client      keyword             signal              winperf\n",
      "bisect              lazy_object_proxy   simplegeneric       winreg\n",
      "bitarray            lib2to3             singledispatch      winsound\n",
      "blaze               linecache           singledispatch_helpers winxpgui\n",
      "bleach              llvmlite            sip                 winxptheme\n",
      "bokeh               locale              sipconfig           wrapt\n",
      "boto                locket              sipdistutils        wsgiref\n",
      "bottleneck          logging             site                xdrlib\n",
      "brain_builtin_inference lxml                six                 xlrd\n",
      "brain_dateutil      lzma                skimage             xlsxwriter\n",
      "brain_gi            macpath             sklearn             xlwings\n",
      "brain_mechanize     macurl2path         smtpd               xlwt\n",
      "brain_nose          mailbox             smtplib             xml\n",
      "brain_numpy         mailcap             sndhdr              xmlrpc\n",
      "brain_pytest        markupsafe          snowballstemmer     xxsubtype\n",
      "brain_qt            marshal             socket              yaml\n",
      "brain_six           math                socketserver        zict\n",
      "brain_ssl           matplotlib          sortedcollections   zipapp\n",
      "brain_stdlib        menuinst            sortedcontainers    zipfile\n",
      "bs4                 mimetypes           sphinx              zipimport\n",
      "builtins            mistune             spyder              zlib\n",
      "bz2                 mkl                 spyder_breakpoints  zmq\n",
      "cProfile            mmap                spyder_io_dcm       \n",
      "calendar            mmapfile            spyder_io_hdf5      \n",
      "cffi                mmsystem            spyder_profiler     \n",
      "\n",
      "Enter any module name to get more help.  Or, type \"modules spam\" to search\n",
      "for modules whose name or summary contain the string \"spam\".\n",
      "\n"
     ]
    }
   ],
   "source": [
    "help(\"modules\")"
   ]
  },
  {
   "cell_type": "code",
   "execution_count": 1,
   "metadata": {},
   "outputs": [
    {
     "name": "stdout",
     "output_type": "stream",
     "text": [
      "[zict 0.1.2 (c:\\users\\user\\anaconda3\\lib\\site-packages), xlwt 1.2.0 (c:\\users\\user\\anaconda3\\lib\\site-packages), xlwings 0.10.4 (c:\\users\\user\\anaconda3\\lib\\site-packages)] \n",
      "\n",
      "<class 'pip._vendor.pkg_resources.EggInfoDistribution'> \n",
      "\n",
      "['alabaster==0.7.10', 'anaconda-client==1.6.3', 'anaconda-navigator==1.6.2', 'anaconda-project==0.6.0', 'asn1crypto==0.22.0', 'astroid==1.4.9', 'astropy==1.3.2', 'babel==2.4.0', 'backports.shutil-get-terminal-size==1.0.0', 'beautifulsoup4==4.6.0', 'bitarray==0.8.1', 'blaze==0.10.1', 'bleach==1.5.0', 'bokeh==0.12.5', 'boto==2.46.1', 'bottleneck==1.2.1', 'cffi==1.10.0', 'chardet==3.0.3', 'click==6.7', 'cloudpickle==0.2.2', 'clyent==1.2.2', 'colorama==0.3.9', 'comtypes==1.1.2', 'conda==4.3.21', 'contextlib2==0.5.5', 'cryptography==1.8.1', 'cx-oracle==6.0.3', 'cycler==0.10.0', 'cython==0.25.2', 'cytoolz==0.8.2', 'dask==0.14.3', 'datashape==0.5.4', 'decorator==4.0.11', 'distributed==1.16.3', 'docutils==0.13.1', 'entrypoints==0.2.2', 'et-xmlfile==1.0.1', 'fastcache==1.0.2', 'findspark==1.1.0', 'flask-cors==3.0.2', 'flask==0.12.2', 'gevent==1.2.1', 'greenlet==0.4.12', 'h5py==2.7.0', 'heapdict==1.0.0', 'html5lib==0.999', 'idna==2.5', 'imagesize==0.7.1', 'ipykernel==4.6.1', 'ipython-genutils==0.2.0', 'ipython==5.3.0', 'ipywidgets==6.0.0', 'isort==4.2.5', 'itsdangerous==0.24', 'jdcal==1.3', 'jedi==0.10.2', 'jinja2==2.9.6', 'jsonschema==2.6.0', 'jupyter-client==5.0.1', 'jupyter-console==5.1.0', 'jupyter-core==4.3.0', 'jupyter==1.0.0', 'lazy-object-proxy==1.2.2', 'llvmlite==0.18.0', 'locket==0.2.0', 'lxml==3.7.3', 'markupsafe==0.23', 'matplotlib==2.0.2', 'menuinst==1.4.7', 'mistune==0.7.4', 'mpmath==0.19', 'msgpack-python==0.4.8', 'multipledispatch==0.4.9', 'mysqlclient==1.3.12', 'navigator-updater==0.1.0', 'nbconvert==5.1.1', 'nbformat==4.3.0', 'networkx==1.11', 'nltk==3.2.3', 'nose==1.3.7', 'notebook==5.0.0', 'numba==0.33.0', 'numexpr==2.6.2', 'numpy==1.12.1', 'numpydoc==0.6.0', 'odo==0.5.0', 'olefile==0.44', 'openpyxl==2.4.7', 'packaging==16.8', 'pandas==0.20.1', 'pandocfilters==1.4.1', 'partd==0.3.8', 'path.py==10.3.1', 'pathlib2==2.2.1', 'patsy==0.4.1', 'pep8==1.7.0', 'pickleshare==0.7.4', 'pillow==4.1.1', 'pip==9.0.1', 'ply==3.10', 'prompt-toolkit==1.0.14', 'psutil==5.2.2', 'py==1.4.33', 'pycosat==0.6.2', 'pycparser==2.17', 'pycrypto==2.6.1', 'pycurl==7.43.0', 'pyflakes==1.5.0', 'pygments==2.2.0', 'pylint==1.6.4', 'pyodbc==4.0.16', 'pyopenssl==17.0.0', 'pyparsing==2.1.4', 'pytest==3.0.7', 'python-dateutil==2.6.0', 'pytz==2017.2', 'pywavelets==0.5.2', 'pywin32==220', 'pyyaml==3.12', 'pyzmq==16.0.2', 'qtawesome==0.4.4', 'qtconsole==4.3.0', 'qtpy==1.2.1', 'requests==2.14.2', 'rope-py3k==0.9.4.post1', 'scikit-image==0.13.0', 'scikit-learn==0.18.1', 'scipy==0.19.0', 'seaborn==0.7.1', 'setuptools==27.2.0', 'simplegeneric==0.8.1', 'singledispatch==3.4.0.3', 'six==1.10.0', 'snowballstemmer==1.2.1', 'sortedcollections==0.5.3', 'sortedcontainers==1.5.7', 'sphinx==1.5.6', 'spyder==3.1.4', 'sqlalchemy==1.1.9', 'statsmodels==0.8.0', 'sympy==1.0', 'tables==3.2.2', 'tblib==1.3.2', 'testpath==0.3', 'toolz==0.8.2', 'tornado==4.5.1', 'traitlets==4.3.2', 'unicodecsv==0.14.1', 'wcwidth==0.1.7', 'werkzeug==0.12.2', 'wheel==0.29.0', 'widgetsnbextension==2.0.0', 'win-unicode-console==0.5', 'wrapt==1.10.10', 'xlrd==1.0.0', 'xlsxwriter==0.9.6', 'xlwings==0.10.4', 'xlwt==1.2.0', 'zict==0.1.2']\n"
     ]
    }
   ],
   "source": [
    "import pip\n",
    "installed_packages = pip.get_installed_distributions()\n",
    "installed_packages_list = sorted([\"%s==%s\" % (i.key, i.version)\n",
    "     for i in installed_packages])\n",
    "print(installed_packages[0:3],'\\n')\n",
    "print(type(installed_packages[0]),'\\n')\n",
    "print(installed_packages_list)"
   ]
  },
  {
   "cell_type": "code",
   "execution_count": 2,
   "metadata": {},
   "outputs": [
    {
     "name": "stdout",
     "output_type": "stream",
     "text": [
      "8.67346938776\n",
      "34.693877551\n",
      "78.0612244898\n"
     ]
    }
   ],
   "source": [
    "print(np.var(y1))\n",
    "print(np.var(y2))\n",
    "print(np.var(y3))"
   ]
  },
  {
   "cell_type": "code",
   "execution_count": 5,
   "metadata": {},
   "outputs": [
    {
     "data": {
      "text/html": [
       "<div>\n",
       "<style>\n",
       "    .dataframe thead tr:only-child th {\n",
       "        text-align: right;\n",
       "    }\n",
       "\n",
       "    .dataframe thead th {\n",
       "        text-align: left;\n",
       "    }\n",
       "\n",
       "    .dataframe tbody tr th {\n",
       "        vertical-align: top;\n",
       "    }\n",
       "</style>\n",
       "<table border=\"1\" class=\"dataframe\">\n",
       "  <thead>\n",
       "    <tr style=\"text-align: right;\">\n",
       "      <th></th>\n",
       "      <th>x</th>\n",
       "      <th>y1</th>\n",
       "      <th>y2</th>\n",
       "      <th>y3</th>\n",
       "    </tr>\n",
       "  </thead>\n",
       "  <tbody>\n",
       "    <tr>\n",
       "      <th>0</th>\n",
       "      <td>0.000000</td>\n",
       "      <td>2.000000</td>\n",
       "      <td>2.000000</td>\n",
       "      <td>2.000000</td>\n",
       "    </tr>\n",
       "    <tr>\n",
       "      <th>1</th>\n",
       "      <td>0.204082</td>\n",
       "      <td>2.204082</td>\n",
       "      <td>2.408163</td>\n",
       "      <td>2.612245</td>\n",
       "    </tr>\n",
       "    <tr>\n",
       "      <th>2</th>\n",
       "      <td>0.408163</td>\n",
       "      <td>2.408163</td>\n",
       "      <td>2.816327</td>\n",
       "      <td>3.224490</td>\n",
       "    </tr>\n",
       "    <tr>\n",
       "      <th>3</th>\n",
       "      <td>0.612245</td>\n",
       "      <td>2.612245</td>\n",
       "      <td>3.224490</td>\n",
       "      <td>3.836735</td>\n",
       "    </tr>\n",
       "    <tr>\n",
       "      <th>4</th>\n",
       "      <td>0.816327</td>\n",
       "      <td>2.816327</td>\n",
       "      <td>3.632653</td>\n",
       "      <td>4.448980</td>\n",
       "    </tr>\n",
       "  </tbody>\n",
       "</table>\n",
       "</div>"
      ],
      "text/plain": [
       "          x        y1        y2        y3\n",
       "0  0.000000  2.000000  2.000000  2.000000\n",
       "1  0.204082  2.204082  2.408163  2.612245\n",
       "2  0.408163  2.408163  2.816327  3.224490\n",
       "3  0.612245  2.612245  3.224490  3.836735\n",
       "4  0.816327  2.816327  3.632653  4.448980"
      ]
     },
     "execution_count": 5,
     "metadata": {},
     "output_type": "execute_result"
    }
   ],
   "source": [
    "import pandas as pd\n",
    "\n",
    "df = pd.DataFrame({'x':x,'y1':y1,'y2':y2,'y3':y3})\n",
    "df.head()"
   ]
  },
  {
   "cell_type": "code",
   "execution_count": 6,
   "metadata": {},
   "outputs": [
    {
     "ename": "DatabaseError",
     "evalue": "ORA-28040: No matching authentication protocol",
     "output_type": "error",
     "traceback": [
      "\u001b[1;31m---------------------------------------------------------------------------\u001b[0m",
      "\u001b[1;31mDatabaseError\u001b[0m                             Traceback (most recent call last)",
      "\u001b[1;32m<ipython-input-6-c14345089f5f>\u001b[0m in \u001b[0;36m<module>\u001b[1;34m()\u001b[0m\n\u001b[0;32m      1\u001b[0m \u001b[1;32mimport\u001b[0m \u001b[0mcx_Oracle\u001b[0m\u001b[1;33m\u001b[0m\u001b[0m\n\u001b[0;32m      2\u001b[0m \u001b[1;33m\u001b[0m\u001b[0m\n\u001b[1;32m----> 3\u001b[1;33m \u001b[0mconnection\u001b[0m \u001b[1;33m=\u001b[0m \u001b[0mcx_Oracle\u001b[0m\u001b[1;33m.\u001b[0m\u001b[0mconnect\u001b[0m\u001b[1;33m(\u001b[0m\u001b[1;34m'SYSTEM'\u001b[0m\u001b[1;33m,\u001b[0m\u001b[1;34m'eldar202'\u001b[0m\u001b[1;33m,\u001b[0m\u001b[1;34m'localhost/orcl'\u001b[0m\u001b[1;33m)\u001b[0m\u001b[1;33m\u001b[0m\u001b[0m\n\u001b[0m\u001b[0;32m      4\u001b[0m \u001b[0mcursor\u001b[0m \u001b[1;33m=\u001b[0m \u001b[0mconnection\u001b[0m\u001b[1;33m.\u001b[0m\u001b[0mcursor\u001b[0m\u001b[1;33m(\u001b[0m\u001b[1;33m)\u001b[0m\u001b[1;33m\u001b[0m\u001b[0m\n",
      "\u001b[1;31mDatabaseError\u001b[0m: ORA-28040: No matching authentication protocol"
     ]
    }
   ],
   "source": [
    "import cx_Oracle\n",
    "\n",
    "connection = cx_Oracle.connect('SYSTEM','eldar202','localhost/orcl')\n",
    "cursor = connection.cursor()"
   ]
  },
  {
   "cell_type": "code",
   "execution_count": null,
   "metadata": {
    "collapsed": true
   },
   "outputs": [],
   "source": [
    "cursor.execute('select * from dual')"
   ]
  },
  {
   "cell_type": "code",
   "execution_count": null,
   "metadata": {
    "collapsed": true
   },
   "outputs": [],
   "source": [
    "print(cursor.fetchall())"
   ]
  }
 ],
 "metadata": {
  "kernelspec": {
   "display_name": "Python 3",
   "language": "python",
   "name": "python3"
  },
  "language_info": {
   "codemirror_mode": {
    "name": "ipython",
    "version": 3
   },
   "file_extension": ".py",
   "mimetype": "text/x-python",
   "name": "python",
   "nbconvert_exporter": "python",
   "pygments_lexer": "ipython3",
   "version": "3.6.1"
  }
 },
 "nbformat": 4,
 "nbformat_minor": 2
}
