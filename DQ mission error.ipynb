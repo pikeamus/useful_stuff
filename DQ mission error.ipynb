{
 "cells": [
  {
   "cell_type": "code",
   "execution_count": 1,
   "metadata": {
    "collapsed": true
   },
   "outputs": [],
   "source": [
    "import sqlite3\n",
    "\n",
    "conn = sqlite3.connect('lahman2015.sqlite')"
   ]
  },
  {
   "cell_type": "markdown",
   "metadata": {},
   "source": [
    "Original dataquest query, required by the answer scorer, in mission:\n",
    "https://www.dataquest.io/m/169/i%2Fo-bound-programs/12/returning-values-from-threads\n",
    "\n",
    "I'm suggesting that the dataquest version is wrong as it is not summing the player's stats over time."
   ]
  },
  {
   "cell_type": "code",
   "execution_count": 4,
   "metadata": {},
   "outputs": [
    {
     "name": "stdout",
     "output_type": "stream",
     "text": [
      "(11.869158878504672, 'chaseha01')\n",
      "(11.868217054263566, 'phillbi01')\n",
      "(11.784313725490197, 'daubeja01')\n",
      "(11.65891472868217, 'stovage01')\n",
      "(11.366906474820144, 'lesliro01')\n",
      "(11.088709677419354, 'sweenbi03')\n",
      "(10.946564885496183, 'werdepe01')\n",
      "(10.903703703703703, 'jonesto01')\n",
      "(10.898148148148149, 'ganzejo01')\n",
      "(10.646017699115044, 'sharpbu01')\n",
      "(10.625850340136054, 'siebedi01')\n",
      "(10.556451612903226, 'unglabo01')\n",
      "(10.470149253731343, 'dillopo01')\n",
      "(10.459854014598541, 'lehanmi01')\n",
      "(10.3, 'bossha01')\n",
      "(10.25, 'nealoji01')\n",
      "(10.226086956521739, 'gandich01')\n",
      "(10.204724409448819, 'farrasi01')\n",
      "(10.133858267716535, 'tucketo01')\n",
      "(10.097902097902098, 'sheelea01')\n"
     ]
    }
   ],
   "source": [
    "cur = conn.cursor()\n",
    "query = \"\"\"\n",
    "    SELECT \n",
    "        (CAST(A AS FLOAT) + PO) / G as RF,  \n",
    "        playerID\n",
    "    FROM Fielding\n",
    "    GROUP BY Fielding.playerID\n",
    "    HAVING G > 100\n",
    "    ORDER BY RF desc\n",
    "    LIMIT 20;\n",
    "    \"\"\"\n",
    "cur.execute(query)\n",
    "res = cur.fetchall()\n",
    "for r in res:\n",
    "    print(r)"
   ]
  },
  {
   "cell_type": "markdown",
   "metadata": {},
   "source": [
    "\n",
    "Version with aggregate functions explicitly added to the query. Note that the top scorer on the dataquest version of the output, chaseha01, is missing entirely.\n"
   ]
  },
  {
   "cell_type": "code",
   "execution_count": 9,
   "metadata": {},
   "outputs": [
    {
     "name": "stdout",
     "output_type": "stream",
     "text": [
      "(12.254838709677419, 'dehlmhe01')\n",
      "(11.265151515151516, 'donahji02')\n",
      "(11.090909090909092, 'lesliro01')\n",
      "(10.987770460959549, 'jonesto01')\n",
      "(10.973214285714286, 'sullich01')\n",
      "(10.957119296316657, 'pippwa01')\n",
      "(10.9079754601227, 'abstebi01')\n",
      "(10.889908256880734, 'cogswed01')\n",
      "(10.885741718674987, 'koneted01')\n",
      "(10.864951768488746, 'dillopo01')\n",
      "(10.739530988274707, 'holkewa01')\n",
      "(10.734002509410288, 'terrybi01')\n",
      "(10.720108695652174, 'ganzejo01')\n",
      "(10.69767441860465, 'nealoji01')\n",
      "(10.68612334801762, 'todtph01')\n",
      "(10.658536585365853, 'newnapa01')\n",
      "(10.65376782077393, 'rossmcl01')\n",
      "(10.64, 'startjo01')\n",
      "(10.631455399061032, 'grimera01')\n",
      "(10.616129032258064, 'swaciha01')\n"
     ]
    }
   ],
   "source": [
    "query = \"\"\"\n",
    "    SELECT \n",
    "        (sum(CAST(A AS FLOAT)) + sum(PO)) / sum(G) as RF,  \n",
    "        playerID\n",
    "    FROM Fielding\n",
    "    GROUP BY Fielding.playerID\n",
    "    HAVING sum(G) > 100\n",
    "    ORDER BY RF desc\n",
    "    LIMIT 20;\n",
    "    \"\"\"\n",
    "cur.execute(query)\n",
    "res = cur.fetchall()\n",
    "for r in res:\n",
    "    print(r)"
   ]
  },
  {
   "cell_type": "markdown",
   "metadata": {},
   "source": [
    "\n",
    "And finally a simple select query where the calculated stat is produced for each row in the fielding table (i.e. for each year/stint/team combo for the selected fielder). Just looking at chaseha01 for sake of example here.\n"
   ]
  },
  {
   "cell_type": "code",
   "execution_count": 12,
   "metadata": {},
   "outputs": [
    {
     "name": "stdout",
     "output_type": "stream",
     "text": [
      "('chaseha01', 1905, 61, 1174, 124, 9.959677419354838)\n",
      "('chaseha01', 1905, 1, 1, 1, 2.0)\n",
      "('chaseha01', 1905, 0, 3, 2, 1.5)\n",
      "('chaseha01', 1906, 89, 1507, 150, 10.64)\n",
      "('chaseha01', 1906, 3, 2, 1, 5.0)\n",
      "('chaseha01', 1907, 77, 1144, 121, 10.090909090909092)\n",
      "('chaseha01', 1907, 2, 8, 4, 2.5)\n",
      "('chaseha01', 1908, 54, 1020, 98, 10.959183673469388)\n",
      "('chaseha01', 1908, 7, 2, 3, 3.0)\n",
      "('chaseha01', 1908, 4, 2, 1, 6.0)\n",
      "('chaseha01', 1908, 0, 2, 3, 0.6666666666666666)\n",
      "('chaseha01', 1908, 0, 0, 1, 0.0)\n",
      "('chaseha01', 1909, 71, 1202, 118, 10.788135593220339)\n",
      "('chaseha01', 1909, 0, 0, 1, 0.0)\n",
      "('chaseha01', 1910, 65, 1373, 130, 11.061538461538461)\n",
      "('chaseha01', 1911, 82, 1257, 124, 10.798387096774194)\n",
      "('chaseha01', 1911, 3, 3, 2, 3.0)\n",
      "('chaseha01', 1911, 0, 11, 7, 1.5714285714285714)\n",
      "('chaseha01', 1912, 79, 1162, 122, 10.172131147540984)\n",
      "('chaseha01', 1912, 10, 11, 7, 3.0)\n",
      "('chaseha01', 1913, 16, 312, 29, 11.310344827586206)\n",
      "('chaseha01', 1913, 3, 10, 5, 2.6)\n",
      "('chaseha01', 1913, 0, 9, 5, 1.8)\n",
      "('chaseha01', 1913, 71, 1009, 102, 10.588235294117647)\n",
      "('chaseha01', 1914, 43, 632, 58, 11.637931034482758)\n",
      "('chaseha01', 1914, 38, 690, 73, 9.972602739726028)\n",
      "('chaseha01', 1915, 83, 1460, 143, 10.79020979020979)\n",
      "('chaseha01', 1915, 0, 3, 1, 3.0)\n",
      "('chaseha01', 1916, 37, 932, 98, 9.887755102040817)\n",
      "('chaseha01', 1916, 49, 40, 16, 5.5625)\n",
      "('chaseha01', 1916, 0, 51, 25, 2.04)\n",
      "('chaseha01', 1917, 80, 1499, 151, 10.456953642384105)\n",
      "('chaseha01', 1918, 38, 607, 67, 9.626865671641792)\n",
      "('chaseha01', 1918, 0, 3, 2, 1.5)\n",
      "('chaseha01', 1919, 65, 1205, 107, 11.869158878504672)\n"
     ]
    }
   ],
   "source": [
    "query = \"select playerID, yearID, A, PO, G, (CAST(A AS FLOAT) + PO) / G as RF from fielding where playerID = 'chaseha01'\"\n",
    "cur.execute(query)\n",
    "res = cur.fetchall()\n",
    "for r in res:\n",
    "    print(r)"
   ]
  },
  {
   "cell_type": "markdown",
   "metadata": {},
   "source": [
    "Notice that the last number in this final query is the same as the value returned for this player by the DataQuest query: 11.869158878504672. This shows that the dataquest query is actually just getting the player's best year, not the player's overall score."
   ]
  }
 ],
 "metadata": {
  "kernelspec": {
   "display_name": "Python 3",
   "language": "python",
   "name": "python3"
  },
  "language_info": {
   "codemirror_mode": {
    "name": "ipython",
    "version": 3
   },
   "file_extension": ".py",
   "mimetype": "text/x-python",
   "name": "python",
   "nbconvert_exporter": "python",
   "pygments_lexer": "ipython3",
   "version": "3.6.1"
  }
 },
 "nbformat": 4,
 "nbformat_minor": 2
}
