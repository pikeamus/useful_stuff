{
 "cells": [
  {
   "cell_type": "code",
   "execution_count": 1,
   "metadata": {
    "collapsed": true
   },
   "outputs": [],
   "source": [
    "import findspark\n",
    "findspark.init()\n",
    "import pyspark\n",
    "sc = pyspark.SparkContext()\n",
    "\n",
    "from pyspark.sql.types import *\n",
    "from pyspark.sql import SparkSession\n",
    "\n",
    "spark = SparkSession.builder \\\n",
    "                    .appName('Test face') \\\n",
    "                    .getOrCreate()"
   ]
  },
  {
   "cell_type": "code",
   "execution_count": 2,
   "metadata": {
    "collapsed": true
   },
   "outputs": [],
   "source": [
    "userdata = spark.read.parquet('C:\\\\Users\\\\mroberts\\\\Documents\\\\userdata1.parquet')"
   ]
  },
  {
   "cell_type": "code",
   "execution_count": 3,
   "metadata": {},
   "outputs": [
    {
     "data": {
      "text/plain": [
       "[('registration_dttm', 'timestamp'),\n",
       " ('id', 'int'),\n",
       " ('first_name', 'string'),\n",
       " ('last_name', 'string'),\n",
       " ('email', 'string'),\n",
       " ('gender', 'string'),\n",
       " ('ip_address', 'string'),\n",
       " ('cc', 'string'),\n",
       " ('country', 'string'),\n",
       " ('birthdate', 'string'),\n",
       " ('salary', 'double'),\n",
       " ('title', 'string'),\n",
       " ('comments', 'string')]"
      ]
     },
     "execution_count": 3,
     "metadata": {},
     "output_type": "execute_result"
    }
   ],
   "source": [
    "userdata.dtypes"
   ]
  },
  {
   "cell_type": "code",
   "execution_count": 17,
   "metadata": {},
   "outputs": [
    {
     "data": {
      "text/plain": [
       "1000"
      ]
     },
     "execution_count": 17,
     "metadata": {},
     "output_type": "execute_result"
    }
   ],
   "source": [
    "userdata.count()"
   ]
  },
  {
   "cell_type": "code",
   "execution_count": 5,
   "metadata": {},
   "outputs": [
    {
     "data": {
      "text/plain": [
       "StructType(List(StructField(registration_dttm,TimestampType,true),StructField(id,IntegerType,true),StructField(first_name,StringType,true),StructField(last_name,StringType,true),StructField(email,StringType,true),StructField(gender,StringType,true),StructField(ip_address,StringType,true),StructField(cc,StringType,true),StructField(country,StringType,true),StructField(birthdate,StringType,true),StructField(salary,DoubleType,true),StructField(title,StringType,true),StructField(comments,StringType,true)))"
      ]
     },
     "execution_count": 5,
     "metadata": {},
     "output_type": "execute_result"
    }
   ],
   "source": [
    "userdata.schema"
   ]
  },
  {
   "cell_type": "code",
   "execution_count": 8,
   "metadata": {},
   "outputs": [
    {
     "name": "stdout",
     "output_type": "stream",
     "text": [
      "+-------+------+------------------+\n",
      "|summary|gender|            salary|\n",
      "+-------+------+------------------+\n",
      "|  count|  1000|               932|\n",
      "|   mean|  null|149005.35665236053|\n",
      "| stddev|  null| 79785.17673591433|\n",
      "|    min|      |          12380.49|\n",
      "|    max|  Male|         286592.99|\n",
      "+-------+------+------------------+\n",
      "\n"
     ]
    }
   ],
   "source": [
    "userdata[['gender','salary']].describe().show()"
   ]
  },
  {
   "cell_type": "code",
   "execution_count": 9,
   "metadata": {},
   "outputs": [
    {
     "name": "stdout",
     "output_type": "stream",
     "text": [
      "== Physical Plan ==\n",
      "*FileScan parquet [registration_dttm#0,id#1,first_name#2,last_name#3,email#4,gender#5,ip_address#6,cc#7,country#8,birthdate#9,salary#10,title#11,comments#12] Batched: true, Format: Parquet, Location: InMemoryFileIndex[file:/C:/Users/mroberts/Documents/userdata1.parquet], PartitionFilters: [], PushedFilters: [], ReadSchema: struct<registration_dttm:timestamp,id:int,first_name:string,last_name:string,email:string,gender:...\n"
     ]
    }
   ],
   "source": [
    "userdata.explain()"
   ]
  },
  {
   "cell_type": "code",
   "execution_count": 10,
   "metadata": {
    "collapsed": true
   },
   "outputs": [],
   "source": [
    "userdata.createTempView('userd')"
   ]
  },
  {
   "cell_type": "code",
   "execution_count": 13,
   "metadata": {
    "collapsed": true
   },
   "outputs": [],
   "source": [
    "gender_salary = spark.sql(\"select gender, title, avg(salary) as avg_salary from userd group by gender, title order by title, gender\")"
   ]
  },
  {
   "cell_type": "code",
   "execution_count": 14,
   "metadata": {},
   "outputs": [],
   "source": [
    "gender_salary.write.save('C:\\\\Users\\\\mroberts\\\\Documents\\\\genderData.parquet')"
   ]
  },
  {
   "cell_type": "code",
   "execution_count": 15,
   "metadata": {
    "collapsed": true
   },
   "outputs": [],
   "source": [
    "test = spark.read.parquet('C:\\\\Users\\\\mroberts\\\\Documents\\\\genderData.parquet')"
   ]
  },
  {
   "cell_type": "code",
   "execution_count": 16,
   "metadata": {},
   "outputs": [
    {
     "name": "stdout",
     "output_type": "stream",
     "text": [
      "+------+--------------------+------------------+\n",
      "|gender|               title|        avg_salary|\n",
      "+------+--------------------+------------------+\n",
      "|Female|Business Systems ...|148044.91666666666|\n",
      "|  Male|Business Systems ...|         122541.72|\n",
      "|Female|Payment Adjustmen...|        207025.212|\n",
      "|  Male|Payment Adjustmen...|186480.70666666667|\n",
      "|Female|Computer Systems ...|          68729.56|\n",
      "|  Male|Computer Systems ...| 93216.20000000001|\n",
      "|Female|Information Syste...|         199784.64|\n",
      "|  Male|Information Syste...| 87605.82500000001|\n",
      "|Female|Software Test Eng...|         214031.75|\n",
      "|Female|Software Test Eng...|           92837.5|\n",
      "|  Male|Computer Systems ...|168114.96000000002|\n",
      "|  Male|Computer Systems ...|         179115.49|\n",
      "|Female|Computer Systems ...|          90859.41|\n",
      "|  Male|Computer Systems ...|          99291.05|\n",
      "|Female|Physical Therapy ...|          138081.4|\n",
      "|  Male|Physical Therapy ...|171580.77833333332|\n",
      "|Female|     Statistician IV|          95828.75|\n",
      "|Female|Structural Analys...|153915.73875000002|\n",
      "|  Male|Administrative As...|         187086.65|\n",
      "|  Male|Administrative As...|         122705.75|\n",
      "+------+--------------------+------------------+\n",
      "only showing top 20 rows\n",
      "\n"
     ]
    }
   ],
   "source": [
    "test.show()"
   ]
  },
  {
   "cell_type": "markdown",
   "metadata": {},
   "source": [
    "Extra info on interacting with hive:\n",
    "https://spark.apache.org/docs/latest/sql-programming-guide.html#hive-tables\n"
   ]
  }
 ],
 "metadata": {
  "kernelspec": {
   "display_name": "Python 3",
   "language": "python",
   "name": "python3"
  },
  "language_info": {
   "codemirror_mode": {
    "name": "ipython",
    "version": 3
   },
   "file_extension": ".py",
   "mimetype": "text/x-python",
   "name": "python",
   "nbconvert_exporter": "python",
   "pygments_lexer": "ipython3",
   "version": "3.6.3"
  }
 },
 "nbformat": 4,
 "nbformat_minor": 2
}
